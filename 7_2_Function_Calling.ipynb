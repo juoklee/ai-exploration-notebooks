{
  "nbformat": 4,
  "nbformat_minor": 0,
  "metadata": {
    "colab": {
      "provenance": [],
      "authorship_tag": "ABX9TyPCic/h9fzbb3rojwh/kKLN",
      "include_colab_link": true
    },
    "kernelspec": {
      "name": "python3",
      "display_name": "Python 3"
    },
    "language_info": {
      "name": "python"
    }
  },
  "cells": [
    {
      "cell_type": "markdown",
      "metadata": {
        "id": "view-in-github",
        "colab_type": "text"
      },
      "source": [
        "<a href=\"https://colab.research.google.com/github/juoklee/ai-exploration-notebooks/blob/main/7_2_Function_Calling.ipynb\" target=\"_parent\"><img src=\"https://colab.research.google.com/assets/colab-badge.svg\" alt=\"Open In Colab\"/></a>"
      ]
    },
    {
      "cell_type": "code",
      "execution_count": 1,
      "metadata": {
        "colab": {
          "base_uri": "https://localhost:8080/"
        },
        "id": "Yucfkr5Jf7_v",
        "outputId": "f25fd480-416e-42a5-86c8-8e8024a8021e"
      },
      "outputs": [
        {
          "output_type": "stream",
          "name": "stdout",
          "text": [
            "\u001b[?25l   \u001b[90m━━━━━━━━━━━━━━━━━━━━━━━━━━━━━━━━━━━━━━━━\u001b[0m \u001b[32m0.0/1.0 MB\u001b[0m \u001b[31m?\u001b[0m eta \u001b[36m-:--:--\u001b[0m\r\u001b[2K   \u001b[91m━━━━━━━━━━━━━━━━━━━━━━━━━\u001b[0m\u001b[90m╺\u001b[0m\u001b[90m━━━━━━━━━━━━━━\u001b[0m \u001b[32m0.6/1.0 MB\u001b[0m \u001b[31m18.9 MB/s\u001b[0m eta \u001b[36m0:00:01\u001b[0m\r\u001b[2K   \u001b[90m━━━━━━━━━━━━━━━━━━━━━━━━━━━━━━━━━━━━━━━━\u001b[0m \u001b[32m1.0/1.0 MB\u001b[0m \u001b[31m18.9 MB/s\u001b[0m eta \u001b[36m0:00:00\u001b[0m\n",
            "\u001b[?25h"
          ]
        }
      ],
      "source": [
        "!pip install --upgrade --quiet openai duckpy"
      ]
    },
    {
      "cell_type": "code",
      "source": [
        "#open ai key\n",
        "import os, openai\n",
        "from google.colab import userdata\n",
        "\n",
        "os.environ['OPENAI_API_KEY'] = userdata.get('openai')\n",
        "openai.api_key = os.getenv(\"OPENAI_API_KEY\")"
      ],
      "metadata": {
        "id": "iBkYlx6qgGL3"
      },
      "execution_count": 3,
      "outputs": []
    },
    {
      "cell_type": "code",
      "source": [
        "# 이전 방식\n",
        "client = openai.OpenAI()\n",
        "\n",
        "content = \"\"\"다음 문장에서 색깔 정보가 있으면 그것을 추출하여 영어로 번역하고 json 포맷으로 만들어서 출력해라.\n",
        "문장: \\\"나는 노란 망고가 좋더라\\n\n",
        "\"\"\"\n",
        "\n",
        "response = client.chat.completions.create(\n",
        "    model=\"gpt-3.5-turbo-1106\",\n",
        "    messages=[\n",
        "        {\n",
        "          \"role\": \"user\",\n",
        "          \"content\": content\n",
        "        }\n",
        "    ],\n",
        ")\n",
        "\n",
        "print(response.choices[0].message.content)\n"
      ],
      "metadata": {
        "colab": {
          "base_uri": "https://localhost:8080/"
        },
        "id": "QBFD9qI5gRAU",
        "outputId": "c1f12477-2447-4ea5-f1f1-f5cf183cd35f"
      },
      "execution_count": 4,
      "outputs": [
        {
          "output_type": "stream",
          "name": "stdout",
          "text": [
            "{\n",
            "  \"색깔\": \"노란\"\n",
            "}\n"
          ]
        }
      ]
    },
    {
      "cell_type": "code",
      "source": [
        "schema = {\n",
        "    \"$schema\": \"http://json-schema.org/draft-07/schema\",\n",
        "    \"type\": \"object\",\n",
        "    \"properties\": {\n",
        "        \"color\": {\"type\": \"string\"}\n",
        "    },\n",
        "    \"required\": [\"color\"]\n",
        "}\n",
        "\n",
        "\n",
        "content = f\"\"\"다음 문장에서 색깔 정보가 있으면 그것을 추출하여 영어로 번역하고 json 포맷으로 만들어서 출력해라.\n",
        "문장: '나는 노란 망고가 좋더라'\n",
        "json schema 는 다음과 같다 : {schema}\n",
        "색깔 정보가 없으면 no color로 대신해라\"\"\"\n",
        "\n",
        "\n",
        "# 이전 방식\n",
        "response = client.chat.completions.create(\n",
        "   model=\"gpt-3.5-turbo-1106\",\n",
        "    messages=[\n",
        "        {\n",
        "          \"role\": \"user\",\n",
        "          \"content\": content\n",
        "        }\n",
        "    ],\n",
        ")\n",
        "\n",
        "print(response.choices[0].message.content)"
      ],
      "metadata": {
        "colab": {
          "base_uri": "https://localhost:8080/"
        },
        "id": "Of3mxKj0hW_E",
        "outputId": "bea20c4c-511a-4d14-8e71-445a43557263"
      },
      "execution_count": 5,
      "outputs": [
        {
          "output_type": "stream",
          "name": "stdout",
          "text": [
            "{\n",
            "  \"color\": \"yellow\"\n",
            "}\n"
          ]
        }
      ]
    },
    {
      "cell_type": "markdown",
      "source": [
        "잘못된 출력 예\n",
        "1. 틀린 아웃풋 (output 텍스트가 포함됨) : output: ~~\n",
        "2. 사용자는 노란색을 좋아합니다.\n",
        "3. 주신 내용에는 색깔 정보가 없는데, 다른 도와 드릴 어쩌구~?"
      ],
      "metadata": {
        "id": "PikvQ8_ZiXfy"
      }
    },
    {
      "cell_type": "code",
      "source": [
        "# NEW!!!\n",
        "response = client.chat.completions.create(\n",
        "   model=\"gpt-4\",\n",
        "    messages=[\n",
        "        {\n",
        "          \"role\": \"user\",\n",
        "          \"content\": \"나는 노란색이 좋더라\"\n",
        "        }\n",
        "    ],\n",
        "   functions=[\n",
        "       {\n",
        "           \"name\": \"color_extractor\",\n",
        "           \"description\": \"사용자의 선호 색깔을 찾아서 영어로 번역하고 영어 단어를 출력\",\n",
        "           \"parameters\": {\n",
        "               \"type\": \"object\",\n",
        "               \"properties\": {\n",
        "                   \"color\": {\n",
        "                       \"type\": \"string\",\n",
        "                       \"description\": \"사용자의 선호 색깔을 알아와서 영어 단어로 출력\"\n",
        "                   }\n",
        "               },\n",
        "               \"required\": [\"color\"],\n",
        "           },\n",
        "       }\n",
        "   ]\n",
        ")\n",
        "\n",
        "print(response.choices[0].message)"
      ],
      "metadata": {
        "colab": {
          "base_uri": "https://localhost:8080/"
        },
        "id": "yfAV7AE9iqF7",
        "outputId": "1d8fe45e-1c86-4cd6-9600-81570f117ec4"
      },
      "execution_count": 7,
      "outputs": [
        {
          "output_type": "stream",
          "name": "stdout",
          "text": [
            "ChatCompletionMessage(content=None, refusal=None, role='assistant', annotations=[], audio=None, function_call=FunctionCall(arguments='{\\n  \"color\": \"노란색\"\\n}', name='color_extractor'), tool_calls=None)\n"
          ]
        }
      ]
    },
    {
      "cell_type": "code",
      "source": [
        "print(response.choices[0].message.function_call.arguments)"
      ],
      "metadata": {
        "colab": {
          "base_uri": "https://localhost:8080/"
        },
        "id": "KDvamEf_jZjx",
        "outputId": "7bf2cfd8-eb2b-43dd-e11a-17e163b73cd5"
      },
      "execution_count": 8,
      "outputs": [
        {
          "output_type": "stream",
          "name": "stdout",
          "text": [
            "{\n",
            "  \"color\": \"노란색\"\n",
            "}\n"
          ]
        }
      ]
    },
    {
      "cell_type": "code",
      "source": [
        "import os, openai\n",
        "\n",
        "response = client.chat.completions.create(\n",
        "    model=\"gpt-4\",\n",
        "    messages=[{\"role\":\"user\", \"content\" : \"퇴근했는데 일 시키는 사람\"}],\n",
        "    functions=[\n",
        "        {\n",
        "            \"name\" : \"color_extractor\",\n",
        "            \"description\" : \"사용자의 선호 색깔을 찾아서 영어로 번역하고 영어 단어를 출력\",\n",
        "            \"parameters\" : {\n",
        "                \"type\":\"object\",\n",
        "                \"properties\" : {\n",
        "                    \"color\" : {\n",
        "                        \"type\" : \"string\",\n",
        "                        \"description\" : \"사용자의 선호 색깔을 알아와서 영어 단어로 출력\"\n",
        "                    },\n",
        "                },\n",
        "                \"required\" : [\"color\"],\n",
        "            },\n",
        "        }\n",
        "    ]\n",
        "\n",
        ")\n",
        "\n",
        "print(response.choices[0].message)"
      ],
      "metadata": {
        "colab": {
          "base_uri": "https://localhost:8080/"
        },
        "id": "AGx1w_Tave1S",
        "outputId": "6c4c33a0-90de-436f-d358-fa825777df1d"
      },
      "execution_count": 10,
      "outputs": [
        {
          "output_type": "stream",
          "name": "stdout",
          "text": [
            "ChatCompletionMessage(content='힘든 상황이시군요. 차분하게 상황을 설명하고 잠시 쉬어야한다는 것을 어떤 이유에서든 간에 이야기해보는 것은 어떨까요? 여유 시간이 필요하다는 건 전혀 잘못된 건 아닙니다. 휴식은 생산성을 높이는 중요한 요소입니다.', refusal=None, role='assistant', annotations=[], audio=None, function_call=None, tool_calls=None)\n"
          ]
        }
      ]
    },
    {
      "cell_type": "code",
      "source": [
        "response = client.chat.completions.create(\n",
        "    model=\"gpt-4\",\n",
        "    messages=[{\"role\":\"user\", \"content\" : \"아침에 세 개 저녁에 네 개\"}],\n",
        "    functions=[\n",
        "        {\n",
        "            \"name\" : \"mango_add\",\n",
        "            \"description\" : \"망고 숫자를 더함\",\n",
        "            \"parameters\" : {\n",
        "                \"type\":\"object\",\n",
        "                \"properties\" : {\n",
        "                    \"quantity1\" : {\n",
        "                        \"type\" : \"integer\",\n",
        "                        \"description\" : \"첫 번째 망고 숫자\",\n",
        "                    },\n",
        "                    \"quantity2\" : {\n",
        "                        \"type\" : \"integer\",\n",
        "                        \"description\" : \"두 번째 망고 숫자\",\n",
        "                    },\n",
        "                },\n",
        "                \"required\" : [\"quantity1\", \"quantity2\"],\n",
        "            },\n",
        "        }\n",
        "    ],\n",
        "    function_call=\"auto\"\n",
        ")\n",
        "\n",
        "print(response.choices[0].message)"
      ],
      "metadata": {
        "colab": {
          "base_uri": "https://localhost:8080/"
        },
        "id": "1Cl5i7kSww4a",
        "outputId": "d14099cb-f78a-4236-b4d6-33bacdb6efab"
      },
      "execution_count": 11,
      "outputs": [
        {
          "output_type": "stream",
          "name": "stdout",
          "text": [
            "ChatCompletionMessage(content=None, refusal=None, role='assistant', annotations=[], audio=None, function_call=FunctionCall(arguments='{\\n  \"quantity1\": 3, \\n  \"quantity2\": 4\\n}', name='mango_add'), tool_calls=None)\n"
          ]
        }
      ]
    },
    {
      "cell_type": "code",
      "source": [
        "print(response.choices[0].message.function_call)"
      ],
      "metadata": {
        "colab": {
          "base_uri": "https://localhost:8080/"
        },
        "id": "3d8IfPVIy3MT",
        "outputId": "06187b18-2db5-44bc-94a8-03355f97c962"
      },
      "execution_count": 12,
      "outputs": [
        {
          "output_type": "stream",
          "name": "stdout",
          "text": [
            "FunctionCall(arguments='{\\n  \"quantity1\": 3, \\n  \"quantity2\": 4\\n}', name='mango_add')\n"
          ]
        }
      ]
    },
    {
      "cell_type": "code",
      "source": [
        "import openai\n",
        "import json\n",
        "from duckpy import Client\n",
        "import ast\n",
        "\n",
        "duckduckgo_client = Client()\n",
        "\n",
        "def duck_search(query) -> str:\n",
        "  \"\"\"Runs a duckduckgo search\"\"\"\n",
        "  output = duckduckgo_client.search(query)\n",
        "  return str(output)\n",
        "\n",
        "completion = client.chat.completions.create(\n",
        "    model=\"gpt-4\",\n",
        "    temperature=0,\n",
        "    functions=[\n",
        "        {\n",
        "            \"name\": \"duck_search\",\n",
        "            \"description\": \"Runs a duckduckgo search\",\n",
        "            \"parameters\": {\n",
        "                \"type\": \"object\",\n",
        "                \"properties\": {\n",
        "                    \"query\": {\n",
        "                        \"type\": \"string\",\n",
        "                        \"description\": \"Translate the Korean content into English input query\",\n",
        "                    },\n",
        "                },\n",
        "                \"required\": [\"query\"],\n",
        "            },\n",
        "        }\n",
        "    ],\n",
        "    messages=[\n",
        "        {\"role\": \"user\", \"content\": \"You must use the 'duck_search' function to get information.\"},\n",
        "        {\"role\": \"user\", \"content\": \"션 멘데스 나이가 몇이야?\"},\n",
        "    ]\n",
        ")"
      ],
      "metadata": {
        "id": "wkgVg24kzJMH"
      },
      "execution_count": 14,
      "outputs": []
    },
    {
      "cell_type": "code",
      "source": [
        "print(completion.choices[0].message)"
      ],
      "metadata": {
        "colab": {
          "base_uri": "https://localhost:8080/"
        },
        "id": "_Np_6WQP0cUj",
        "outputId": "d33e7691-8385-40e2-e87f-cbf62edf872b"
      },
      "execution_count": 17,
      "outputs": [
        {
          "output_type": "stream",
          "name": "stdout",
          "text": [
            "ChatCompletionMessage(content=None, refusal=None, role='assistant', annotations=[], audio=None, function_call=FunctionCall(arguments='{\\n  \"query\": \"션 멘데스 나이\"\\n}', name='duck_search'), tool_calls=None)\n"
          ]
        }
      ]
    },
    {
      "cell_type": "code",
      "source": [
        "example_user_input = \"런던 날씨가 안 좋다면서? 거기 날씨는 어때?\"\n",
        "\n",
        "completion = client.chat.completions.create(\n",
        "    model=\"gpt-4\",\n",
        "    messages=[{\"role\":\"user\", \"content\": example_user_input}],\n",
        "    functions=[\n",
        "        {\n",
        "            \"name\": \"get_different_response\",\n",
        "            \"description\": \"답변을 여러가지 말투로 하기\",\n",
        "            \"parameters\": {\n",
        "                \"type\": \"object\",\n",
        "                \"properties\": {\n",
        "                    \"response_a\": {\n",
        "                        \"type\": \"string\",\n",
        "                        \"description\": \"답변을 높임말로 바꿈\",\n",
        "                    },\n",
        "                    \"response_b\": {\n",
        "                        \"type\": \"string\",\n",
        "                        \"description\": \"답변을 반말로 바꿈\",\n",
        "                    },\n",
        "                },\n",
        "                \"required\": [\"response_a\", \"response_b\"],\n",
        "            }\n",
        "        }\n",
        "    ],\n",
        "    function_call={\"name\" : \"get_different_response\"},\n",
        ")\n",
        "\n",
        "\n",
        "reply_content = completion.choices[0].message\n",
        "print(reply_content.function_call.arguments)"
      ],
      "metadata": {
        "colab": {
          "base_uri": "https://localhost:8080/"
        },
        "id": "TByHGEqH1RfY",
        "outputId": "e3973b5c-2d8c-4ea9-ed6d-70b385f95f95"
      },
      "execution_count": 22,
      "outputs": [
        {
          "output_type": "stream",
          "name": "stdout",
          "text": [
            "{\n",
            "  \"response_a\": \"네, 현재 런던은 비가 내리고 있어요. 온도는 8도로 조금 추워요. 따뜻하게 입고 다니시는 게 좋을 것 같아요.\",\n",
            "  \"response_b\": \"어, 지금 런던은 비가 오고 있어. 온도는 8도로 쪼금 추워. 따뜻하게 입고 다녀야 할 거 같아.\"\n",
            "}\n"
          ]
        }
      ]
    }
  ]
}