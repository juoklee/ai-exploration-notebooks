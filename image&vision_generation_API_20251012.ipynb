{
  "nbformat": 4,
  "nbformat_minor": 0,
  "metadata": {
    "colab": {
      "provenance": [],
      "authorship_tag": "ABX9TyNrWB2WabdQxLr2IS5IWfEr",
      "include_colab_link": true
    },
    "kernelspec": {
      "name": "python3",
      "display_name": "Python 3"
    },
    "language_info": {
      "name": "python"
    }
  },
  "cells": [
    {
      "cell_type": "markdown",
      "metadata": {
        "id": "view-in-github",
        "colab_type": "text"
      },
      "source": [
        "<a href=\"https://colab.research.google.com/github/juoklee/ai-exploration-notebooks/blob/main/image%26vision_generation_API_20251012.ipynb\" target=\"_parent\"><img src=\"https://colab.research.google.com/assets/colab-badge.svg\" alt=\"Open In Colab\"/></a>"
      ]
    },
    {
      "cell_type": "code",
      "execution_count": null,
      "metadata": {
        "colab": {
          "base_uri": "https://localhost:8080/"
        },
        "collapsed": true,
        "id": "1lVVnuFWGJyx",
        "outputId": "0c9ff954-7ef7-4ad5-b916-8fc970655556"
      },
      "outputs": [
        {
          "output_type": "stream",
          "name": "stdout",
          "text": [
            "Requirement already satisfied: openai in /usr/local/lib/python3.12/dist-packages (1.109.1)\n",
            "Requirement already satisfied: anyio<5,>=3.5.0 in /usr/local/lib/python3.12/dist-packages (from openai) (4.11.0)\n",
            "Requirement already satisfied: distro<2,>=1.7.0 in /usr/local/lib/python3.12/dist-packages (from openai) (1.9.0)\n",
            "Requirement already satisfied: httpx<1,>=0.23.0 in /usr/local/lib/python3.12/dist-packages (from openai) (0.28.1)\n",
            "Requirement already satisfied: jiter<1,>=0.4.0 in /usr/local/lib/python3.12/dist-packages (from openai) (0.11.0)\n",
            "Requirement already satisfied: pydantic<3,>=1.9.0 in /usr/local/lib/python3.12/dist-packages (from openai) (2.11.10)\n",
            "Requirement already satisfied: sniffio in /usr/local/lib/python3.12/dist-packages (from openai) (1.3.1)\n",
            "Requirement already satisfied: tqdm>4 in /usr/local/lib/python3.12/dist-packages (from openai) (4.67.1)\n",
            "Requirement already satisfied: typing-extensions<5,>=4.11 in /usr/local/lib/python3.12/dist-packages (from openai) (4.15.0)\n",
            "Requirement already satisfied: idna>=2.8 in /usr/local/lib/python3.12/dist-packages (from anyio<5,>=3.5.0->openai) (3.10)\n",
            "Requirement already satisfied: certifi in /usr/local/lib/python3.12/dist-packages (from httpx<1,>=0.23.0->openai) (2025.10.5)\n",
            "Requirement already satisfied: httpcore==1.* in /usr/local/lib/python3.12/dist-packages (from httpx<1,>=0.23.0->openai) (1.0.9)\n",
            "Requirement already satisfied: h11>=0.16 in /usr/local/lib/python3.12/dist-packages (from httpcore==1.*->httpx<1,>=0.23.0->openai) (0.16.0)\n",
            "Requirement already satisfied: annotated-types>=0.6.0 in /usr/local/lib/python3.12/dist-packages (from pydantic<3,>=1.9.0->openai) (0.7.0)\n",
            "Requirement already satisfied: pydantic-core==2.33.2 in /usr/local/lib/python3.12/dist-packages (from pydantic<3,>=1.9.0->openai) (2.33.2)\n",
            "Requirement already satisfied: typing-inspection>=0.4.0 in /usr/local/lib/python3.12/dist-packages (from pydantic<3,>=1.9.0->openai) (0.4.2)\n"
          ]
        }
      ],
      "source": [
        "!pip install openai"
      ]
    },
    {
      "cell_type": "code",
      "source": [
        "# set open ai key\n",
        "from openai import OpenAI\n",
        "import os\n",
        "\n",
        "with open('token.txt', 'r') as file:\n",
        "  os.environ[\"OPENAI_API_KEY\"] = file.read().strip()\n",
        "\n",
        "OpenAI.api_key = os.getenv(\"OPENAI_API_KEY\")"
      ],
      "metadata": {
        "id": "x0vUYgKvGfYe"
      },
      "execution_count": null,
      "outputs": []
    },
    {
      "cell_type": "code",
      "source": [
        "# 이미지주소 주고 설명하라고 시키기\n",
        "client = OpenAI()\n",
        "\n",
        "response = client.chat.completions.create(\n",
        "    model=\"gpt-4o\",\n",
        "    messages=[\n",
        "        {\n",
        "            \"role\":\"user\",\n",
        "            \"content\": [\n",
        "                { \"type\" : \"text\", \"text\" : \"이거 설명해\"},\n",
        "                {\n",
        "                  \"type\":\"image_url\",\n",
        "                  \"image_url\": {\n",
        "                      # 실제 이미지 링크\n",
        "                     \"url\": \"https://geographical.co.uk/wp-content/uploads/shutterstock_1853507206-1.jpg\"\n",
        "                  },\n",
        "                },\n",
        "            ],\n",
        "        },\n",
        "    ],\n",
        "    max_tokens=300,\n",
        ")"
      ],
      "metadata": {
        "collapsed": true,
        "id": "2hsWF93mG6sn"
      },
      "execution_count": null,
      "outputs": []
    },
    {
      "cell_type": "code",
      "source": [
        "print(response)\n",
        "print(response.choices[0].message.content)"
      ],
      "metadata": {
        "colab": {
          "base_uri": "https://localhost:8080/"
        },
        "id": "f1zC6CnoJdXp",
        "outputId": "9ed2ce83-c1a8-411e-d9fc-d52c2ec55130"
      },
      "execution_count": null,
      "outputs": [
        {
          "output_type": "stream",
          "name": "stdout",
          "text": [
            "ChatCompletion(id='chatcmpl-CPk619jy7XJrhb4VPVwFoISH083Gf', choices=[Choice(finish_reason='stop', index=0, logprobs=None, message=ChatCompletionMessage(content='이 이미지는 심해 탐사를 묘사한 그림입니다. 수면 위에는 탐사를 위한 연구선이 위치해 있으며, 아래로는 깊은 해저 협곡이 펼쳐져 있습니다. 해저로 내려가는 잠수정과 주변을 수영하는 다이버들이 보입니다. 이는 아마도 바다의 깊은 곳을 탐험하고 연구하기 위한 상황을 나타내는 것으로 보입니다. 해양의 깊이를 시각적으로 강조하고 있으며, 탐사의 위험성과 신비로움을 동시에 표현하고 있습니다.', refusal=None, role='assistant', annotations=[], audio=None, function_call=None, tool_calls=None))], created=1760251429, model='gpt-4o-2024-08-06', object='chat.completion', service_tier='default', system_fingerprint='fp_cbf1785567', usage=CompletionUsage(completion_tokens=114, prompt_tokens=776, total_tokens=890, completion_tokens_details=CompletionTokensDetails(accepted_prediction_tokens=0, audio_tokens=0, reasoning_tokens=0, rejected_prediction_tokens=0), prompt_tokens_details=PromptTokensDetails(audio_tokens=0, cached_tokens=0)))\n",
            "이 이미지는 심해 탐사를 묘사한 그림입니다. 수면 위에는 탐사를 위한 연구선이 위치해 있으며, 아래로는 깊은 해저 협곡이 펼쳐져 있습니다. 해저로 내려가는 잠수정과 주변을 수영하는 다이버들이 보입니다. 이는 아마도 바다의 깊은 곳을 탐험하고 연구하기 위한 상황을 나타내는 것으로 보입니다. 해양의 깊이를 시각적으로 강조하고 있으며, 탐사의 위험성과 신비로움을 동시에 표현하고 있습니다.\n"
          ]
        }
      ]
    },
    {
      "cell_type": "code",
      "source": [
        "# 실제 이미지 파일을 업로드 해서 설명하라고 시키기\n",
        "import base64\n",
        "import requests, json\n",
        "\n",
        "# OpenAI API Key\n",
        "api_key = OpenAI.api_key\n",
        "\n",
        "# Function to encode the image\n",
        "def encode_image(image_path):\n",
        "  with open(image_path, \"rb\") as image_file:\n",
        "    return base64.b64encode(image_file.read()).decode('utf-8')\n",
        "\n",
        "# Path to your image\n",
        "image_path = \"image.png\"\n",
        "\n",
        "# Getting the base64 string\n",
        "base64_image = encode_image(image_path)\n",
        "\n",
        "headers = {\n",
        "  \"Content-Type\": \"application/json\",\n",
        "  \"Authorization\": f\"Bearer {api_key}\"\n",
        "}\n",
        "\n",
        "payload = {\n",
        "  \"model\": \"gpt-4o\",\n",
        "  \"messages\": [\n",
        "    {\n",
        "      \"role\": \"user\",\n",
        "      \"content\": [\n",
        "        {\n",
        "          \"type\": \"text\",\n",
        "          \"text\": \"설명해줘!\"\n",
        "        },\n",
        "        {\n",
        "          \"type\": \"image_url\",\n",
        "          \"image_url\": {\n",
        "            \"url\": f\"data:image/jpeg;base64,{base64_image}\"\n",
        "          }\n",
        "        }\n",
        "      ]\n",
        "    }\n",
        "  ],\n",
        "  \"max_tokens\": 300\n",
        "}\n",
        "\n",
        "response = requests.post(\"https://api.openai.com/v1/chat/completions\", headers=headers, json=payload)\n",
        "print(json.dumps(response.json(), indent=4))"
      ],
      "metadata": {
        "colab": {
          "base_uri": "https://localhost:8080/"
        },
        "id": "h-8xngXNJxEC",
        "outputId": "f73c77ce-f5d6-470a-df52-21e20928390e"
      },
      "execution_count": null,
      "outputs": [
        {
          "output_type": "stream",
          "name": "stdout",
          "text": [
            "{\n",
            "    \"id\": \"chatcmpl-CPkMhtxuOMKR4dHwwTzRIyiNA7eQH\",\n",
            "    \"object\": \"chat.completion\",\n",
            "    \"created\": 1760252463,\n",
            "    \"model\": \"gpt-4o-2024-08-06\",\n",
            "    \"choices\": [\n",
            "        {\n",
            "            \"index\": 0,\n",
            "            \"message\": {\n",
            "                \"role\": \"assistant\",\n",
            "                \"content\": \"\\uc774 \\uc0ac\\uc9c4\\uc740 \\ud551\\ud06c\\uc0c9 \\ubaa8\\uc790\\ub97c \\uc4f4 \\uadc0\\uc5ec\\uc6b4 \\uce90\\ub9ad\\ud130\\uc758 \\ubaa8\\uc2b5\\uc774\\uc5d0\\uc694. \\uc774 \\uce90\\ub9ad\\ud130\\ub294 \\ud070 \\ub208\\uacfc \\uadc0\\uc5ec\\uc6b4 \\uc774\\ube68\\uc744 \\uac00\\uc9c0\\uace0 \\uc788\\uc73c\\uba70, \\uc804\\uccb4\\uc801\\uc73c\\ub85c \\ub530\\ub73b\\ud558\\uace0 \\ubd80\\ub4dc\\ub7ec\\uc6b4 \\ub290\\ub08c\\uc744 \\uc8fc\\uace0 \\uc788\\uc5b4\\uc694. \\ubc30\\uacbd\\uc5d0\\ub294 \\uaca8\\uc6b8 \\ub290\\ub08c\\uc774 \\ub098\\ub294 \\ub098\\ubb34\\uc640 \\ubc14\\uc704\\uac00 \\uc788\\uc2b5\\ub2c8\\ub2e4. \\uc560\\ub2c8\\uba54\\uc774\\uc158 \\ub610\\ub294 \\ub3d9\\ud654 \\uc18d\\uc5d0 \\ub098\\uc62c \\ubc95\\ud55c \\uadc0\\uc5ec\\uc6b4 \\uce90\\ub9ad\\ud130\\uc608\\uc694.\",\n",
            "                \"refusal\": null,\n",
            "                \"annotations\": []\n",
            "            },\n",
            "            \"logprobs\": null,\n",
            "            \"finish_reason\": \"stop\"\n",
            "        }\n",
            "    ],\n",
            "    \"usage\": {\n",
            "        \"prompt_tokens\": 267,\n",
            "        \"completion_tokens\": 93,\n",
            "        \"total_tokens\": 360,\n",
            "        \"prompt_tokens_details\": {\n",
            "            \"cached_tokens\": 0,\n",
            "            \"audio_tokens\": 0\n",
            "        },\n",
            "        \"completion_tokens_details\": {\n",
            "            \"reasoning_tokens\": 0,\n",
            "            \"audio_tokens\": 0,\n",
            "            \"accepted_prediction_tokens\": 0,\n",
            "            \"rejected_prediction_tokens\": 0\n",
            "        }\n",
            "    },\n",
            "    \"service_tier\": \"default\",\n",
            "    \"system_fingerprint\": \"fp_cbf1785567\"\n",
            "}\n"
          ]
        }
      ]
    },
    {
      "cell_type": "code",
      "source": [
        "print(response.json()['choices'][0]['message']['content'])"
      ],
      "metadata": {
        "colab": {
          "base_uri": "https://localhost:8080/"
        },
        "id": "6dXD3Q6oOvQU",
        "outputId": "c235ce78-03aa-48cd-887f-0efd6fc1be48"
      },
      "execution_count": null,
      "outputs": [
        {
          "output_type": "stream",
          "name": "stdout",
          "text": [
            "이 사진은 핑크색 모자를 쓴 귀여운 캐릭터의 모습이에요. 이 캐릭터는 큰 눈과 귀여운 이빨을 가지고 있으며, 전체적으로 따뜻하고 부드러운 느낌을 주고 있어요. 배경에는 겨울 느낌이 나는 나무와 바위가 있습니다. 애니메이션 또는 동화 속에 나올 법한 귀여운 캐릭터예요.\n"
          ]
        }
      ]
    },
    {
      "cell_type": "code",
      "source": [
        "# 이미지 만들기\n",
        "response = client.images.generate(\n",
        "    model=\"dall-e-3\",\n",
        "    prompt=\"a white siamese cat\",\n",
        "    size=\"1024x1024\",\n",
        "    quality=\"standard\",\n",
        "    n=1,\n",
        ")\n",
        "\n",
        "image_url = response.data[0].url\n",
        "print(response)"
      ],
      "metadata": {
        "colab": {
          "base_uri": "https://localhost:8080/"
        },
        "id": "hRDmWLFHO9Hk",
        "outputId": "23dd754a-aeca-4fba-f42d-b994412a439b"
      },
      "execution_count": null,
      "outputs": [
        {
          "output_type": "stream",
          "name": "stdout",
          "text": [
            "ImagesResponse(created=1760253036, background=None, data=[Image(b64_json=None, revised_prompt='A Siamese cat of white color, its almond-shaped blue eyes exhibiting a piercing gaze. It is known for its sleek, short hair and lean body structure. The cat is sitting upright, bringing out its intelligent and inquisitive nature. The background is neutral, focusing all the attention on the majestic creature.', url='https://oaidalleapiprodscus.blob.core.windows.net/private/org-DP1aJdt9bDiH9dx8OsSdh7HJ/user-LZPSpNDH2SFd6djJfnXCdnnT/img-69wONOjLMYvvm5yJrfP4mLAk.png?st=2025-10-12T06%3A10%3A36Z&se=2025-10-12T08%3A10%3A36Z&sp=r&sv=2024-08-04&sr=b&rscd=inline&rsct=image/png&skoid=77e5a8ec-6bd1-4477-8afc-16703a64f029&sktid=a48cca56-e6da-484e-a814-9c849652bcb3&skt=2025-10-12T07%3A10%3A36Z&ske=2025-10-13T07%3A10%3A36Z&sks=b&skv=2024-08-04&sig=Q09s0i/918fWP0ZmWhW1bHbDhz8HBUKqhvwHTuk5%2B9s%3D')], output_format=None, quality=None, size=None, usage=None)\n"
          ]
        }
      ]
    },
    {
      "cell_type": "code",
      "source": [
        "print(image_url)"
      ],
      "metadata": {
        "colab": {
          "base_uri": "https://localhost:8080/"
        },
        "id": "KlW8_Ep5QGVg",
        "outputId": "034fac54-d2e1-44d5-bce6-aa2fc3407e66"
      },
      "execution_count": null,
      "outputs": [
        {
          "output_type": "stream",
          "name": "stdout",
          "text": [
            "https://oaidalleapiprodscus.blob.core.windows.net/private/org-DP1aJdt9bDiH9dx8OsSdh7HJ/user-LZPSpNDH2SFd6djJfnXCdnnT/img-69wONOjLMYvvm5yJrfP4mLAk.png?st=2025-10-12T06%3A10%3A36Z&se=2025-10-12T08%3A10%3A36Z&sp=r&sv=2024-08-04&sr=b&rscd=inline&rsct=image/png&skoid=77e5a8ec-6bd1-4477-8afc-16703a64f029&sktid=a48cca56-e6da-484e-a814-9c849652bcb3&skt=2025-10-12T07%3A10%3A36Z&ske=2025-10-13T07%3A10%3A36Z&sks=b&skv=2024-08-04&sig=Q09s0i/918fWP0ZmWhW1bHbDhz8HBUKqhvwHTuk5%2B9s%3D\n"
          ]
        }
      ]
    },
    {
      "cell_type": "code",
      "source": [
        "from IPython.display import display, HTML\n",
        "html = f'<img src=\"{image_url}\" width=\"600\">'\n",
        "display(HTML(html))"
      ],
      "metadata": {
        "colab": {
          "base_uri": "https://localhost:8080/",
          "height": 641
        },
        "id": "X3gK-cmkPJoX",
        "outputId": "da3ed85f-e077-42c6-d897-0ab03e72a6ae"
      },
      "execution_count": null,
      "outputs": [
        {
          "output_type": "display_data",
          "data": {
            "text/plain": [
              "<IPython.core.display.HTML object>"
            ],
            "text/html": [
              "<img src=\"https://oaidalleapiprodscus.blob.core.windows.net/private/org-DP1aJdt9bDiH9dx8OsSdh7HJ/user-LZPSpNDH2SFd6djJfnXCdnnT/img-69wONOjLMYvvm5yJrfP4mLAk.png?st=2025-10-12T06%3A10%3A36Z&se=2025-10-12T08%3A10%3A36Z&sp=r&sv=2024-08-04&sr=b&rscd=inline&rsct=image/png&skoid=77e5a8ec-6bd1-4477-8afc-16703a64f029&sktid=a48cca56-e6da-484e-a814-9c849652bcb3&skt=2025-10-12T07%3A10%3A36Z&ske=2025-10-13T07%3A10%3A36Z&sks=b&skv=2024-08-04&sig=Q09s0i/918fWP0ZmWhW1bHbDhz8HBUKqhvwHTuk5%2B9s%3D\" width=\"600\">"
            ]
          },
          "metadata": {}
        }
      ]
    }
  ]
}