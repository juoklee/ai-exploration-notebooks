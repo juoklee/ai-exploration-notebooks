{
  "nbformat": 4,
  "nbformat_minor": 0,
  "metadata": {
    "colab": {
      "provenance": [],
      "authorship_tag": "ABX9TyOrwRaIaogpPGSU7vDmhxAW"
    },
    "kernelspec": {
      "name": "python3",
      "display_name": "Python 3"
    },
    "language_info": {
      "name": "python"
    }
  },
  "cells": [
    {
      "cell_type": "code",
      "execution_count": 1,
      "metadata": {
        "id": "3nRsM9qcdP8Z",
        "colab": {
          "base_uri": "https://localhost:8080/"
        },
        "collapsed": true,
        "outputId": "fb52cbcb-57a0-4730-e518-e972bc7e6b7e"
      },
      "outputs": [
        {
          "output_type": "stream",
          "name": "stdout",
          "text": [
            "Requirement already satisfied: openai in /usr/local/lib/python3.12/dist-packages (1.109.1)\n",
            "Requirement already satisfied: anyio<5,>=3.5.0 in /usr/local/lib/python3.12/dist-packages (from openai) (4.11.0)\n",
            "Requirement already satisfied: distro<2,>=1.7.0 in /usr/local/lib/python3.12/dist-packages (from openai) (1.9.0)\n",
            "Requirement already satisfied: httpx<1,>=0.23.0 in /usr/local/lib/python3.12/dist-packages (from openai) (0.28.1)\n",
            "Requirement already satisfied: jiter<1,>=0.4.0 in /usr/local/lib/python3.12/dist-packages (from openai) (0.11.0)\n",
            "Requirement already satisfied: pydantic<3,>=1.9.0 in /usr/local/lib/python3.12/dist-packages (from openai) (2.11.10)\n",
            "Requirement already satisfied: sniffio in /usr/local/lib/python3.12/dist-packages (from openai) (1.3.1)\n",
            "Requirement already satisfied: tqdm>4 in /usr/local/lib/python3.12/dist-packages (from openai) (4.67.1)\n",
            "Requirement already satisfied: typing-extensions<5,>=4.11 in /usr/local/lib/python3.12/dist-packages (from openai) (4.15.0)\n",
            "Requirement already satisfied: idna>=2.8 in /usr/local/lib/python3.12/dist-packages (from anyio<5,>=3.5.0->openai) (3.10)\n",
            "Requirement already satisfied: certifi in /usr/local/lib/python3.12/dist-packages (from httpx<1,>=0.23.0->openai) (2025.10.5)\n",
            "Requirement already satisfied: httpcore==1.* in /usr/local/lib/python3.12/dist-packages (from httpx<1,>=0.23.0->openai) (1.0.9)\n",
            "Requirement already satisfied: h11>=0.16 in /usr/local/lib/python3.12/dist-packages (from httpcore==1.*->httpx<1,>=0.23.0->openai) (0.16.0)\n",
            "Requirement already satisfied: annotated-types>=0.6.0 in /usr/local/lib/python3.12/dist-packages (from pydantic<3,>=1.9.0->openai) (0.7.0)\n",
            "Requirement already satisfied: pydantic-core==2.33.2 in /usr/local/lib/python3.12/dist-packages (from pydantic<3,>=1.9.0->openai) (2.33.2)\n",
            "Requirement already satisfied: typing-inspection>=0.4.0 in /usr/local/lib/python3.12/dist-packages (from pydantic<3,>=1.9.0->openai) (0.4.2)\n"
          ]
        }
      ],
      "source": [
        "!pip install openai"
      ]
    },
    {
      "cell_type": "code",
      "source": [
        "# API key file로 관리\n",
        "import openai\n",
        "import os\n",
        "\n",
        "with open('token.txt', 'r') as file:\n",
        "  os.environ[\"OPENAI_API_KEY\"] = file.read().strip()\n",
        "\n",
        "openai.api_key = os.getenv(\"OPENAI_API_KEY\")"
      ],
      "metadata": {
        "id": "y4gOQokzlbx9"
      },
      "execution_count": 4,
      "outputs": []
    },
    {
      "cell_type": "code",
      "source": [
        "# API key colab 으로 관리\n",
        "from openai import OpenAI\n",
        "import os\n",
        "from google.colab import userdata\n",
        "\n",
        "os.environ[\"OPENAI_API_KEY\"] = userdata.get('openai')\n",
        "openai_api_key=userdata.get('openai')"
      ],
      "metadata": {
        "id": "1qNnNR9apAUi"
      },
      "execution_count": 5,
      "outputs": []
    },
    {
      "cell_type": "markdown",
      "source": [
        "# OpenAI API"
      ],
      "metadata": {
        "id": "GrZRymP1qAOW"
      }
    },
    {
      "cell_type": "code",
      "source": [
        "client = openai.OpenAI()\n",
        "\n",
        "response = client.responses.create(\n",
        "  prompt={\n",
        "    \"id\": \"pmpt_68e9e59e4a5c8193a7dc8d23373b26a10291e2afa0b9b961\",\n",
        "    \"version\": \"1\"\n",
        "  },\n",
        "  input=[\n",
        "    {\n",
        "      \"role\": \"user\",\n",
        "      \"content\": [\n",
        "        {\n",
        "          \"type\": \"input_text\",\n",
        "          \"text\": \"자바 개발자 4년차의 기본 자기소개서 100자 이내로 만들어줘\"\n",
        "        }\n",
        "      ]\n",
        "    },\n",
        "    {\n",
        "      \"type\": \"reasoning\",\n",
        "      \"id\": \"rs_040ae845935dfb2a0068e9e86256f88190b58539dee79de02a\",\n",
        "      \"summary\": [],\n",
        "      \"encrypted_content\": \"gAAAAABo6eh9xqJH72aqKefkutbqNp-FiWsfN0I0sFdLpBpAMbUwO_XMzTtYckbwIb_eNwUXBoaoCtoiwpcbXaGAFmkd2rJz1xRK5vrGFQ333VH4xbxXDTTNFW0jyDHWEnoM91lRAGTWY9YhTQ5C9KgjTTaehuphvllZJopOcUG8MsiLbkTiYvgKYxk4cj34mpSMOthqjwb0Vuqs9gbNJeMraQ_cVC9gZhs6YkTL3MvfbBvw58YbT5VXIVLeGpDeBxlizPGUgx4TDGHwNmj2C579PhA8WlCz4MxP-SnrhssJtUGnFWTWCHVgoxkmj05sSZA4BZ5-NP7zclFJ49J-KmdllntTdcBFjPcSJLphRnsCLISJbrFG28hBagCmKIXp6u_6goqMmOeVvzWwl2t7oSSE11p7Lp_yK6zRTr07uvyWKJ3q9vUIgGO2rqxIO53mezmu9JS97P3Z97E8PMBak0iO78og629CrofwxvuZnLAqTZskcuH3tYGmIwyF8gP77ixRwMtmiU-P29SrnbDI8MZDqkFpom-KObSrjFzC-8woVIo_WcmTBl1hHa0NRZmhclIKS3yvC34XdFPry7zMDoVYfBNPgjPG2gLAOgKrQKHbAJamkm5SmIYZQGR_xRQgDMpFmJJ7DVO54mwWjbuLZq9_F1qUT4tf8vL0kPJYd68DrOrtRQNyOaqzLAJ7SVc-tlDJLCmoQzwQphmJeukOjU39KF2Cii5jnKYohaq40aTTJ7pP50ro7PiYTjE9xUzuXQce0Bsq8p0qash1xitJp6pED7XLFeOA7-NEoDV6sd8uB6ouMF8Oeam_TqPluWKETlIxOtC6xR_CiK0y9YcsaShj_KpjVkURcUBp2h-T6I5EiaYDbuULtRrGRZ86ZtHiwom0ln_xmRt22lsTbhGrb_G-SG_sw7BqRmDr4J8xeYJsf4-XgyZ3SsiAsPAwHVQT4Yx20L3GC3KXoaUc56zaon0nRaW8hYwnsn3t8KNp3-JxiTWAU4XmFNphjk0dndgeiV64evKt2d1qq0KAo4h-mfKjqO-PvvGA8sSg490KJzG-NuEp3lhuatyuB7GnGdYLZXqhZneeHXQncpyU1Rt3SWZC15lK1Eoa3oKSQNwsF8Vk4rTcBURZ_p5_fN-moBw38w1o33XHTv6VzK5we4yqpORnNTUA-1hGaymOUFE_hGuTmEFpBjam2ZbSaYEZBwFGi2CNuO_hLVrnx8NpQHb9CJeNXr-c6MoDfw4m0DUvwwSfklHS8Pvp3e2mUsbA19CMZi6FYW7hlPjGKSd16y58UhlTWDBzHnbXvrKthWxesHHDJ92Io2mn3jZe-x_HixiqcmVijVXrUDT5iRw-37NNdmebRycYRlgZtazTFmM-eV1UVQtfO3kVPo9Nv9FJl5LheANK4Rl4Xo8tDsji0zdhSeNHEGyE1bW1zcs2NAVBaiTy4F-44rLzt5jxoHim4UuyIUdPMiytf0MR8uPg277gJAXQ209WXZoNfDUg_h9TstXnH2OqBGO-6cH1NnAtqz3TNw9_nH9FYZ0qmSae9dOHPs6j3paXh2KzI2Cz5sZTH_LcIaHFzS9mjGaFh8H0aD4g8sqxuH_dPBAi4H_1XbYUxb74N6u49ijuLNirKOO58I92x50TzlkJb7ygV1dFMhVsfq5qweiCqY8DJr2CpRHPEDBcHQAQmzfB3ERi-PPXug5H17lbQah3Bqk7ns7ZvkITvkG8eP5kXse2f6lvNpLP4drYlen9dAQ0AM76aW7IpsWG3lUCBXk0l4f5nU4cayIz419sN98JjbpIx8NN2dikZ358IjRRCYwvvhV9iEEc52an6mzSiooBeIlWw4pnom5zh9c79G_ot0kqfyB98PsGTTlrXedm9Vup_EaUlN9GM3nx_gnG0bkSx9H-DOLJhYSfVBtM5ORmUE9oSgKeNGTtO8JPLGYdtS5YIjaHJKuGBuLM0eNhH92gTeHPOKvHji6kQm6V1HVfID2mlru9Y1tkDpVQeKD4rKK4r3mS1VwUsbeilCfcO5iQLYji31MJuA9OmAzAt-Xm1EDp3Ip2OXWj489tdUw6d3uKBi7oTxKHuQIK4IQiB7zasPP063WaEnZydSrmlDGUGivJDCRwh97ukn5zrEHL1HBNiwbZvlwjOlANjC5MW8jxOsdg3tPGAFTRfkzTxvVJIOvkklbaPx_i1JfkFVQMC1XarkvvuWaRX1-BAy1rmFK6gAnrIUe1_Irdmiqu0gQ5HG9BmzdEvAeFdRLdEMTGuysedpXsS9n3ng5A0v7vbSCILjnDosp7GCXktZDdJKdo2sn6_oCY-hkulU1DpleQiVNst_hM0AKAe5TcQ2hc20CFI_62tEsxZOqEDcjEYh9vppLr74eK-b_0lDuABs9nBJzeVNGHaEYgcqcge87l8eg4rXLmAFCtAWXwyXdUUxHf0socumpZLKQVNyj9FVROzeDZxkft4H34GBzIDNeArVapnt0Zec7Fi9j0WzGaDy5oTtmStvzOQpzwgDuPW0qgYd_FoNsR2cufGjFqGBvXX0Lq4JIytESiIlglUj_CKXkfmi74NAeLPFNGtoSfvmO8MTR3_VCIwiVmnZ9qKRgMo0JD61iZ3v0YHcDmtPzRFPdW7I_pNZZ75fTPo3n3i3uw9YJqO11pAnG0F9KoBqbmA1c9LKg1nDyHtqxGYhmVpC91DXgc3CSVaAlT40_Kg5ysHn7mfQJ1h0Lros1wNQwvjfaDSVgY-yJSkGjJLUICsXs4WNhwwSQvZOocuQhbgrJ3D721w8Orx9-DsvmHQR3Wmyco-L-9R6ZpuNE-cD4c6SrCOzkK7aNXlaPO_4QaMEx4hWK2P9IY0GCVOam5nJeSy58GymOBSxUL2CiGj3nVUxLUs3WrUUEiWsGAbNr-1Jhir5uX_bdcZk7OfffxQfLrPzhCFD_XhxI87fB0LzR-W8JtQ6IUnjsfLvc9fqFUc_CpdqAkBJc1qxPLfoBqdUo6qWjFf3BQAqfExsci77oxbOgMB2IqiSJMEPRuqc21OvfY__xbrUsvZltn9x5HosslCs2x_DCSnHcdlDD8_P1Fr0IVASUvBj7oVxdjeaWxccbtA18swKyO20-sXBvRm8qGmYPm4EFjJWoVCJAH1iS609FmGqGmEkuNc47i2w5uRHQEf2hwd0-pt_vGIsDMD8GFuFOGMOf6yLc1ZDHG7wkAp52A9mYrMritmn7uNGexAFiDh-WEF7b4W7UY_2wsYa_IyzdvaNRyyZj-H3sNaqTrTrQDSHWZS3BmhrJfxW9EfCqY0T1DfVtLmfRVqGpcFkv3PLlalx9-psnk-us91w5Zd3wkN3UioNgHhlZOLzPKVPa0ZD2wEyvyMes0ExjmETqUbgY_7Myh1-0vHIeMlRfkwQ9Wo63DV9FTJehWbFPKPINjo5AknuMVTk_b6fMeQeS0Ois_J-1OkgdFH1QLz7T3r4BT2K7sR7Z-jM4s2TEnh_vPC4b807BNrV4lS4pxesNJwVH7zk9NCGB4xdm2ODApOZFP4Mix7KlAgTgyB32HI134r1h4MkPfmIKsNnHy85UdNJ_A7n02P3xS0H5D0GCdy9c5qc09c3ZXVUbHne_1Rr_RGx7JzskUzIAvyXt4WmohEqf3p_mz-cMsNiPS13nhtrKFMvaeuFZgxwP69L15zbTOTaNdG2gn1A4QdnCPqUwy1Ev1O1HkL-aDuL6kAsb3MOr-vB00i18VmkLTNqvnlV9IZldke9io_sbn4sboPsm0s-Ias2Mt7GGSNQSS4iLpp3K0ZyWTadkXp1EjT7xb0l8XURbjaOMWq1AIYiH8FoRIYTxOU1HmFJh07GRidLl3a0nkx4r85FjAe9YrK7uqzg-uoc8AZiQbsOUeLGvxXq4AsLOb914oI0BcspxY6M9zbmFDjHueaA_uXzQnDZBwUMGBWJq-N1VcoF1twwHguwwzl0XyuYDAP22-d-Z_tdTpKmzHd0m7uPwIGCxRTmSZleXI6cHGpgCrZNK7rAPE5_b4pDHhwVICwmvnrLJwD5p6SRel_DrsREom8crWkxkdzlGX4t8WLF0JUX7MCyJnQ4jkBt94ItqripgHgUCF-N_f-XEZrLLyz0q5-xAsVYUrrqioHx6mAxR1iPXdNbwdGDaXxeL6-OhfoRfm1sYNZAS6mXT9ArsLCD6vb8ERtvRH20xbdIjCz_5wH__kD9vUS87RAGyi2obPGrS9heqQueyjI2cUZMtJiOUg47-YvaSqioCLj7mS1S9izvO418yImXtcoAQAhwGOSG3LwPopJBLcecSlAhsxrUaQPyYB5qGtGK9lJvSoxtdUKZ26O_sGkrT91jXGjVj-JkdSGvUZdG0tZBfyjWSrIpxeWRx7FIFcaGfnMBoFuXYwyBNDrXEsqHgtF0rhf7kr6CVSJ8cXG9PpF8n2yKv0eG6E2HHa7FARI3t63hDZs27FAmsWtsgLDuLcssPtgzvl4lchvlq0z3Zyhb-PQdr87ht9yzjkcP5cywOT5WVkubEPhEpV7hOiJ0zuxZLdu1f59amVk_BxqFGDYs6LTWqmQ1NsFiWflXsQP5GcCw38Va_ptp2E3rlIoDAB_F0nwYon-kxDGL7-fQYsY-8OM-fSOQJoV0lfsJ_t4Ptzn2X--bbE42cIYgYFnzV-BuCGtFoI_ELq2bFSqmdr09pEEuWzfK-d96_DJ893s7MVlGDFiyR47Ym7ij_0vZz7vZyfP-j5-U4XXkLnL2NEk83dfQITYO7rpFb3nqvmbmvMix_8kBi-ezqcp0vUBGdYNAy1OjlftgxEBwF7FyJZkZfSDSuEaFhXvF6AcJHF-wWdRIJU1SboCxQ4sVKoKA6xVgfeieDCVczQQy-5zEoRfjzkqafo2TMc3HW6Cs7ggNhwQ7O4iNRhQ89MwsGSnO_hPtUg_K_MaAEizGUONhL11jiluIBqZKIHD0zdsQN6C5Vhgk1vd9-X11sVPL-1PU-J7L2TXbCAyOvEas9IlTMwu9Ydss0Hmk2gcEA371jw3wpbd2iyAeUEChS6wz66giUh0kmxKehVlY9hPwe0td7TWHPoEnlznmRZz8WBfzV8tVczGvp2PGGWA8_O1iAzTyRVkvJ_3kXZaL-N4SyXlD49GJ2NHfVeOLcsbGkgwSGBAU_EOw7OQEXTD8NkhmrCTYGV97O4d8pwZxG0vYd3pT5oSh73iOWqK9tnzEK1afxiLpsvjK-DLGGk5r-huMXFheg1qCnOUSrNic_MF4RvcKsxT7P_fKoAPNjtfsOOFx7rZZbTTKSlvYwQbUCqOwexWZYNQUvcsjUB3qQE8gK0rTy8BR-cJG4Kvs7GTdMYc8nRt5b4h-G5nHe9JVcHqKYY0lqH0P0G68PVJaqk6JOyRB6CEirsnand-H65z2dymH7ejCk3RRHITUzmrU882e9mRAQeiTjzVMd1WgNOomqtVh2h4GkTiHHC7r8dm3UTbygVJ24StB_ZknUxfTm9RLsX5Mm2npTT4DVE_Jc3NNXM2hqSzYknIH3eVpKLKHnUvbaRHhAlEacwkPNynJ3MjCic_Oqk31HF8vyedZ5PUVLGgJD_xISJdSwc3sfYjvk-uniUkEYFLHDkzCNorNXkBlKR1CTJX-mrpK1Pp35nPObsv6AlOKBz4Qn66Dh0oF0KIB83icZz9V1pRgX2irCB8gPexOYo60BObf6MTEt3m8xAMb2ATR1VnwU7RbTTqyOiL8L1KU4gpjTL9R-cZepYBf0Zf96eUsHv4QiqpjLFEcAF3ImrOFIBVnyDEpDKpyBWB9Sb-9khKYhZdGjHWQCBdOgUte1cadQowU0CsAqebMTwU7fkKcemO3ne2DUisUU_8Z3_1ENeh2GxN1Z7ZFykLH7RhadCvnPw_aGgnQ_BnpLcsFtCPKPT2yb1AUGmUN9ZkpRGeur59RqXX68qdR8YwKurjm8BHK_6ykDeqWauUNKPX99IBEjBdXykgm0XMkAOdxqGG1nc6YhHNtbZJENt5KgPpDZHXIpR-4CJ8164crmCg9CSlaFKgA3TIL8n5oojDk6dTMMkJvh0ekkV5mCohen6hV5vJ6WgwLtiEpfxzVULfXqrBmlhWPTsc-n6iU7aorR7drp1Ia1sbz8Di6YWGhIDpRVJYof6PF2sGPANZ5OB7Rsq2FkqUfOGYCetnsQyRtt5nz3_kEWbQtemNayEMOibe2jDHaxV8q9GeSuB_yI49lJTWVcb5zwvaw472pFObLmYd_P94vZFFwR6mEdf2pQ8FfhTk726NB2WmbSYVMgF1zyRTuleDTPvLtq8aPz014LM2_DVfjgv_czN5GlSgQ2IIGBzH8xsoYWXaSLKRNo6WFOIczmrKKbvdcmnZSze4Mj8bHeTvALcyazVWh60oO2aD7fctW0QENWgiBrtwz99NjXlbA1_XDqQe2oKRazFRxGdkqagb9kT2LCpzD7G2_y_B8EEk3SxWH2oydTXWFzIv6-Tl8iNbnEcTj01-vJ1pzvvMnqdGht-tXgb01iNrxNCsv28dNN6PGY-Zvgit2d0weOe98D5frJLw0hltbYYGIg-nyzR8-bc-AECSOBtj2JFNdip8w8bQxUiPOiO-5bx7G7Oe_0c3NdVcaDY3RrvbBRhYUzMggtqrn8nztaLPCXzp94TvPzJWoF92jlzodTM1voOkBRWIFB-n_GaNjOyFkoLTMXNw-uxjW3sLpaEfBegiQnsCral80BJUZSPaIUdkUme-zeSSPK8vXpoVd37ZtuaJWZLMr0tncgMrm1TkBGeCp2HXz84AdhMhfmvHkT-9-tNC2aM1VoMQdtxAlzgTVx46nP6-i4R9RCpX5GR9YxDCSHy-KpG5dXwEwbxGP5Bz-CZehxj20LG2jo5tKVs3TtMK7fuo9CbwrqgC2zN2eDHe_HpIotTtpqTyhi1dZYH-bCgBMzSpMTVQMvcFPdmgY52OXn081BqT9kkAUSB_k41IB9moP9_b6cuHCjGfA-JU43xa0Xjk0i6crmSfNLZX8UGS_ZNzfQ3AqTXLZ2I7Y6yc_KOhvR0ZycgO05h02TVMlm6po2p17dWT2knwN7JCjwrag045GMxIFY1vId8XvHcHHVvSkbMpVwJdsIiu4ukXQDSP_Mqgtsm-c2x_jizobtj4hOQWKn2KC7hIxIEZK8SzJHl-YFwg1rGJNeJaTbevk-lgDsfuJUTxANruKjRMYanQ0dwriXD0xMNeUjcA7M9L3oqQJPBIhbfoBq7IYg8xR7er18SUom71kqliTskcfUm-8IiKVUprXzZzS65IYAnp4UxJOUHIEmDAAl6ricfVau4pEJ5m9m0HboRlDSWOQbzcwctyhDtQl2A-x4hvt_LwwgiMBRj1ND6NycWMxV38m70CVLGsWdTcwqiCyqXEIIz8FsyU8OsTVeAwFULbKTVMjEulvCInmYRXPGsWAjTQ6ES5b-cNulKIPSkFPwsrXAnfhKQU_Lf_IzYa8_m9MgubIUVNBzuyJ9hkoaKQNSHfEENy2hf0UqwootY2GpRrjXJWpovMB9wZp60sDUhscnDjYGQzhve8NftEIDxL5UR7sHVAbyy7DalofpgRghvMJN5pjdJbVdC0X-_okIdjjiydtGm0Gh08mI4LysB22WNWM_Tjf9fJEhNyLwnzywgKDRei2A3WswvRnG-zeKnAe6C7lTzZ4bjE7tMG9Nd-8l5tAechy1I51rm49wLXtqWHXs92zDmPKwjXnQdvDHnghso5-DLub-vZT4sp9tY0YntPUtpLOKhWb9tY__UkX-LYAj237eActAQzECC1RvWaUsDw-OjbnGqPHjU4ZHQfHJL-PD-LZAy5MtzVUeo9MXE-Gqf1SNi45xk8MX7KYNY54HzVwD7YLOh8rp6IX5bgsGwwLerJ2NrSNGmXT2w7BDyaG0KSNCFBLZNbvv2GFcfrBjnVqvEdM0h2-yQj_AKNpYhIe8_4-nnqZuhBPAsQMw0piPnp7tcKCNHb-I2c_nHzDIW_5Z0avpj2lhNDZIyMiF2aSXO3q3T28t_GScr5yUvHNLFc8D7xmb_MMF9ZLolqec60T_GQpjvF3gzqx51cemfjvrDlTUihkh2Tb7Xuk0PyaS_XzK_c52MYoOyrX9ZC2IyQm9acGGdnaaP8Ct0Iufa-Y_8pH5W7hPM2HDnpyrhWSEHFaVZQubKfU9vbbtLQKJYLcrMRTgeLSnT_qgkLtsGONcUWva9arT5nyUM4-4-zCL2BD0pDfwcANYcv3xHqjrZmWo_8OAFDl_0qb8OQu278j5BybLn19f-vLWCcn050XYydkoWpK5W7BIgaOBnxwYKl7BV4vNmGby3acsa0v56HJGvHSpO0eh8pxL-CDp2s_eP8VrQ9WS0SO9SpF_TIp1GQGYEpiG14z-_ZbtS5S2aCrowkZcSYTeOZxW57RSKgDodY_DEVn7AJvRpHHdVCp2RSZllrdf5s7Jy4ICNAXZIp6SjPvpDOi4wERz3yNXwgAJWOHj2OMgdc7glBYuz_k_hE3Bvu-Qm7jh1GkwqBf-bdGSPf5u9uzB9rfgbM_dDR1h00j4-phLGAGqx6q7ONJg7OsZ0vyBM_CJLLBxXuZjv3Svsmf-EQxp_VrEVq_QhNuEdbagp1YHUBQ==\"\n",
        "    },\n",
        "    {\n",
        "      \"id\": \"msg_040ae845935dfb2a0068e9e87c420c81908bc80df6b10efb55\",\n",
        "      \"role\": \"assistant\",\n",
        "      \"content\": [\n",
        "        {\n",
        "          \"type\": \"output_text\",\n",
        "          \"text\": \"4년차 자바 백엔드 개발자입니다. Spring 기반 서비스 성능·안정성 개선과 문제 해결에 강점이 있습니다.\"\n",
        "        }\n",
        "      ]\n",
        "    }\n",
        "  ],\n",
        "  reasoning={},\n",
        "  store=True,\n",
        "  include=[\n",
        "    \"reasoning.encrypted_content\",\n",
        "    \"web_search_call.action.sources\"\n",
        "  ]\n",
        ")\n",
        "\n",
        "print(response)"
      ],
      "metadata": {
        "colab": {
          "base_uri": "https://localhost:8080/"
        },
        "id": "O7Jt9ZVtpoyo",
        "outputId": "71ffef17-69ec-4402-84fd-ead876ab9b49"
      },
      "execution_count": 7,
      "outputs": [
        {
          "output_type": "stream",
          "name": "stdout",
          "text": [
            "Response(id='resp_040ae845935dfb2a0068ecf77b48b8819087f2c0cb128bac7b', created_at=1760360315.0, error=None, incomplete_details=None, instructions=[EasyInputMessage(content=[], role='developer', type='message'), EasyInputMessage(content=[ResponseInputText(text='너는 이력서 첨삭 전문가야', type='input_text')], role='user', type='message')], metadata={}, model='gpt-5-2025-08-07', object='response', output=[ResponseReasoningItem(id='rs_040ae845935dfb2a0068ecf77cf8388190b5e8e37d29091834', summary=[], type='reasoning', content=None, encrypted_content='gAAAAABo7PeBD7_NR5yx1klq1JQsLJWZQPjP-ZdHgvxGSGar4AE7G6VI_cT7gLDjs6lvNghwlzsz8GxYJM9iqce5M5lhW7UhD_to-M0FeXpLVA3f72fYG7duBBVO8D0riwEBjrtr6TNSy5c6mrxnPJFMHLihEjVFeyGYvsiQ07wMqrSjTEawPaMaiqrcobkP-qU6d6GxN4870VgV2txVudbXZTR3OoYJ4SX7kJfPIY-UNjx0eieoR1ppfJGX4FkluEeuLv_AbNPREkOFLF5fDt14lwyINuhggkioZ3EMrc-sablwDoOUYgrmllh0NHEbnbrltfdw7uATw64-ZRVcUNIpWL5J3ksF3ZmzoCTdxzSG6sJA7aIhP8IOK0wRrYobnJcjVb3Sb_s3qXCmE7_fWw1SrtBKVovzov6YlK2uF3qb7IUINOV5f5nL8YWPSf7P29bDh3Tw0biy5WDuGMerVTC7OPaXKBYdw6VaTAGfuTx1itIntT25fix9HYddRug42JtbTSdF7aIaDmbMi2ii0i6si0Ibg4B1xGHAQdMy02BrQr74HYfqceL3PDE4oiJxHMRwCYS6Z8S-nqMHliJQhbnhT_FK92a11e0BODEPTr1rR_MBr6FHsK_Tq23DM2Fdl8P3efQKiHuD9_kl4WvkLaEhj_j6-N3oVKGwwIGTJk4rcHRg9vWpbP0lD_GD3b8FtiXl3TUep7vH_KepYzXU8UvtemVy4-nkRXH1kXVGuv73lyqty4xJLon06eCvp2NjUA5a3YLPMMxZANBh8-skEhi-z474lCT-OO0WUv4Iz93Rd_hNj00mUyfMCijNEbxQIC1ynRriN3gPinenAC6zbwPRWwSuuXNJFnWvQSljH85IdsPnc1mnVNYjS26nI6L5A95B1dRzlguZF2N-vTH3lY_tu96tPcpR3oxK5_IFBQyygWwxWlpplExK4qun_4MKn9MDnC0H4HgGpoFGtg5n-5tDgQr__k92mXHctu41JDDZEnTdK9x_xEw=', status=None), ResponseOutputMessage(id='msg_040ae845935dfb2a0068ecf78103608190a0d6a55d6507311d', content=[ResponseOutputText(annotations=[], text='4년차 자바 백엔드 개발자입니다. Spring 기반 서비스 성능·안정성 개선과 문제 해결에 강점이 있습니다.', type='output_text', logprobs=[])], role='assistant', status='completed', type='message')], parallel_tool_calls=True, temperature=1.0, tool_choice='auto', tools=[], top_p=1.0, background=False, conversation=None, max_output_tokens=None, max_tool_calls=None, previous_response_id=None, prompt=ResponsePrompt(id='pmpt_68e9e59e4a5c8193a7dc8d23373b26a10291e2afa0b9b961', variables={}, version='1'), prompt_cache_key=None, reasoning=Reasoning(effort='medium', generate_summary=None, summary=None), safety_identifier=None, service_tier='default', status='completed', text=ResponseTextConfig(format=ResponseFormatText(type='text'), verbosity='medium'), top_logprobs=0, truncation='disabled', usage=ResponseUsage(input_tokens=1699, input_tokens_details=InputTokensDetails(cached_tokens=0), output_tokens=37, output_tokens_details=OutputTokensDetails(reasoning_tokens=0), total_tokens=1736), user=None, billing={'payer': 'developer'}, store=True)\n"
          ]
        }
      ]
    },
    {
      "cell_type": "markdown",
      "source": [
        "# Langchain - Openai"
      ],
      "metadata": {
        "id": "UuemByybJbus"
      }
    },
    {
      "cell_type": "code",
      "source": [
        "!pip install langchain-openai"
      ],
      "metadata": {
        "colab": {
          "base_uri": "https://localhost:8080/"
        },
        "collapsed": true,
        "id": "3z1Yo2FTJgpB",
        "outputId": "9ef11c39-7bcd-4ee6-8581-48f5323dd9e7"
      },
      "execution_count": 8,
      "outputs": [
        {
          "output_type": "stream",
          "name": "stdout",
          "text": [
            "Collecting langchain-openai\n",
            "  Downloading langchain_openai-0.3.35-py3-none-any.whl.metadata (2.4 kB)\n",
            "Requirement already satisfied: langchain-core<1.0.0,>=0.3.78 in /usr/local/lib/python3.12/dist-packages (from langchain-openai) (0.3.78)\n",
            "Requirement already satisfied: openai<3.0.0,>=1.104.2 in /usr/local/lib/python3.12/dist-packages (from langchain-openai) (1.109.1)\n",
            "Requirement already satisfied: tiktoken<1.0.0,>=0.7.0 in /usr/local/lib/python3.12/dist-packages (from langchain-openai) (0.12.0)\n",
            "Requirement already satisfied: langsmith<1.0.0,>=0.3.45 in /usr/local/lib/python3.12/dist-packages (from langchain-core<1.0.0,>=0.3.78->langchain-openai) (0.4.33)\n",
            "Requirement already satisfied: tenacity!=8.4.0,<10.0.0,>=8.1.0 in /usr/local/lib/python3.12/dist-packages (from langchain-core<1.0.0,>=0.3.78->langchain-openai) (8.5.0)\n",
            "Requirement already satisfied: jsonpatch<2.0.0,>=1.33.0 in /usr/local/lib/python3.12/dist-packages (from langchain-core<1.0.0,>=0.3.78->langchain-openai) (1.33)\n",
            "Requirement already satisfied: PyYAML<7.0.0,>=5.3.0 in /usr/local/lib/python3.12/dist-packages (from langchain-core<1.0.0,>=0.3.78->langchain-openai) (6.0.3)\n",
            "Requirement already satisfied: typing-extensions<5.0.0,>=4.7.0 in /usr/local/lib/python3.12/dist-packages (from langchain-core<1.0.0,>=0.3.78->langchain-openai) (4.15.0)\n",
            "Requirement already satisfied: packaging<26.0.0,>=23.2.0 in /usr/local/lib/python3.12/dist-packages (from langchain-core<1.0.0,>=0.3.78->langchain-openai) (25.0)\n",
            "Requirement already satisfied: pydantic<3.0.0,>=2.7.4 in /usr/local/lib/python3.12/dist-packages (from langchain-core<1.0.0,>=0.3.78->langchain-openai) (2.11.10)\n",
            "Requirement already satisfied: anyio<5,>=3.5.0 in /usr/local/lib/python3.12/dist-packages (from openai<3.0.0,>=1.104.2->langchain-openai) (4.11.0)\n",
            "Requirement already satisfied: distro<2,>=1.7.0 in /usr/local/lib/python3.12/dist-packages (from openai<3.0.0,>=1.104.2->langchain-openai) (1.9.0)\n",
            "Requirement already satisfied: httpx<1,>=0.23.0 in /usr/local/lib/python3.12/dist-packages (from openai<3.0.0,>=1.104.2->langchain-openai) (0.28.1)\n",
            "Requirement already satisfied: jiter<1,>=0.4.0 in /usr/local/lib/python3.12/dist-packages (from openai<3.0.0,>=1.104.2->langchain-openai) (0.11.0)\n",
            "Requirement already satisfied: sniffio in /usr/local/lib/python3.12/dist-packages (from openai<3.0.0,>=1.104.2->langchain-openai) (1.3.1)\n",
            "Requirement already satisfied: tqdm>4 in /usr/local/lib/python3.12/dist-packages (from openai<3.0.0,>=1.104.2->langchain-openai) (4.67.1)\n",
            "Requirement already satisfied: regex>=2022.1.18 in /usr/local/lib/python3.12/dist-packages (from tiktoken<1.0.0,>=0.7.0->langchain-openai) (2024.11.6)\n",
            "Requirement already satisfied: requests>=2.26.0 in /usr/local/lib/python3.12/dist-packages (from tiktoken<1.0.0,>=0.7.0->langchain-openai) (2.32.4)\n",
            "Requirement already satisfied: idna>=2.8 in /usr/local/lib/python3.12/dist-packages (from anyio<5,>=3.5.0->openai<3.0.0,>=1.104.2->langchain-openai) (3.10)\n",
            "Requirement already satisfied: certifi in /usr/local/lib/python3.12/dist-packages (from httpx<1,>=0.23.0->openai<3.0.0,>=1.104.2->langchain-openai) (2025.10.5)\n",
            "Requirement already satisfied: httpcore==1.* in /usr/local/lib/python3.12/dist-packages (from httpx<1,>=0.23.0->openai<3.0.0,>=1.104.2->langchain-openai) (1.0.9)\n",
            "Requirement already satisfied: h11>=0.16 in /usr/local/lib/python3.12/dist-packages (from httpcore==1.*->httpx<1,>=0.23.0->openai<3.0.0,>=1.104.2->langchain-openai) (0.16.0)\n",
            "Requirement already satisfied: jsonpointer>=1.9 in /usr/local/lib/python3.12/dist-packages (from jsonpatch<2.0.0,>=1.33.0->langchain-core<1.0.0,>=0.3.78->langchain-openai) (3.0.0)\n",
            "Requirement already satisfied: orjson>=3.9.14 in /usr/local/lib/python3.12/dist-packages (from langsmith<1.0.0,>=0.3.45->langchain-core<1.0.0,>=0.3.78->langchain-openai) (3.11.3)\n",
            "Requirement already satisfied: requests-toolbelt>=1.0.0 in /usr/local/lib/python3.12/dist-packages (from langsmith<1.0.0,>=0.3.45->langchain-core<1.0.0,>=0.3.78->langchain-openai) (1.0.0)\n",
            "Requirement already satisfied: zstandard>=0.23.0 in /usr/local/lib/python3.12/dist-packages (from langsmith<1.0.0,>=0.3.45->langchain-core<1.0.0,>=0.3.78->langchain-openai) (0.25.0)\n",
            "Requirement already satisfied: annotated-types>=0.6.0 in /usr/local/lib/python3.12/dist-packages (from pydantic<3.0.0,>=2.7.4->langchain-core<1.0.0,>=0.3.78->langchain-openai) (0.7.0)\n",
            "Requirement already satisfied: pydantic-core==2.33.2 in /usr/local/lib/python3.12/dist-packages (from pydantic<3.0.0,>=2.7.4->langchain-core<1.0.0,>=0.3.78->langchain-openai) (2.33.2)\n",
            "Requirement already satisfied: typing-inspection>=0.4.0 in /usr/local/lib/python3.12/dist-packages (from pydantic<3.0.0,>=2.7.4->langchain-core<1.0.0,>=0.3.78->langchain-openai) (0.4.2)\n",
            "Requirement already satisfied: charset_normalizer<4,>=2 in /usr/local/lib/python3.12/dist-packages (from requests>=2.26.0->tiktoken<1.0.0,>=0.7.0->langchain-openai) (3.4.3)\n",
            "Requirement already satisfied: urllib3<3,>=1.21.1 in /usr/local/lib/python3.12/dist-packages (from requests>=2.26.0->tiktoken<1.0.0,>=0.7.0->langchain-openai) (2.5.0)\n",
            "Downloading langchain_openai-0.3.35-py3-none-any.whl (75 kB)\n",
            "\u001b[2K   \u001b[90m━━━━━━━━━━━━━━━━━━━━━━━━━━━━━━━━━━━━━━━━\u001b[0m \u001b[32m76.0/76.0 kB\u001b[0m \u001b[31m3.3 MB/s\u001b[0m eta \u001b[36m0:00:00\u001b[0m\n",
            "\u001b[?25hInstalling collected packages: langchain-openai\n",
            "Successfully installed langchain-openai-0.3.35\n"
          ]
        }
      ]
    },
    {
      "cell_type": "code",
      "metadata": {
        "colab": {
          "base_uri": "https://localhost:8080/"
        },
        "collapsed": true,
        "id": "227626fa",
        "outputId": "04627deb-295a-479f-805b-fd05025a64ac"
      },
      "source": [
        "!pip install langchain-community"
      ],
      "execution_count": 9,
      "outputs": [
        {
          "output_type": "stream",
          "name": "stdout",
          "text": [
            "Collecting langchain-community\n",
            "  Downloading langchain_community-0.3.31-py3-none-any.whl.metadata (3.0 kB)\n",
            "Requirement already satisfied: langchain-core<2.0.0,>=0.3.78 in /usr/local/lib/python3.12/dist-packages (from langchain-community) (0.3.78)\n",
            "Requirement already satisfied: langchain<2.0.0,>=0.3.27 in /usr/local/lib/python3.12/dist-packages (from langchain-community) (0.3.27)\n",
            "Requirement already satisfied: SQLAlchemy<3.0.0,>=1.4.0 in /usr/local/lib/python3.12/dist-packages (from langchain-community) (2.0.43)\n",
            "Collecting requests<3.0.0,>=2.32.5 (from langchain-community)\n",
            "  Downloading requests-2.32.5-py3-none-any.whl.metadata (4.9 kB)\n",
            "Requirement already satisfied: PyYAML<7.0.0,>=5.3.0 in /usr/local/lib/python3.12/dist-packages (from langchain-community) (6.0.3)\n",
            "Requirement already satisfied: aiohttp<4.0.0,>=3.8.3 in /usr/local/lib/python3.12/dist-packages (from langchain-community) (3.13.0)\n",
            "Requirement already satisfied: tenacity!=8.4.0,<10.0.0,>=8.1.0 in /usr/local/lib/python3.12/dist-packages (from langchain-community) (8.5.0)\n",
            "Collecting dataclasses-json<0.7.0,>=0.6.7 (from langchain-community)\n",
            "  Downloading dataclasses_json-0.6.7-py3-none-any.whl.metadata (25 kB)\n",
            "Requirement already satisfied: pydantic-settings<3.0.0,>=2.10.1 in /usr/local/lib/python3.12/dist-packages (from langchain-community) (2.11.0)\n",
            "Requirement already satisfied: langsmith<1.0.0,>=0.1.125 in /usr/local/lib/python3.12/dist-packages (from langchain-community) (0.4.33)\n",
            "Requirement already satisfied: httpx-sse<1.0.0,>=0.4.0 in /usr/local/lib/python3.12/dist-packages (from langchain-community) (0.4.2)\n",
            "Requirement already satisfied: numpy>=1.26.2 in /usr/local/lib/python3.12/dist-packages (from langchain-community) (2.0.2)\n",
            "Requirement already satisfied: aiohappyeyeballs>=2.5.0 in /usr/local/lib/python3.12/dist-packages (from aiohttp<4.0.0,>=3.8.3->langchain-community) (2.6.1)\n",
            "Requirement already satisfied: aiosignal>=1.4.0 in /usr/local/lib/python3.12/dist-packages (from aiohttp<4.0.0,>=3.8.3->langchain-community) (1.4.0)\n",
            "Requirement already satisfied: attrs>=17.3.0 in /usr/local/lib/python3.12/dist-packages (from aiohttp<4.0.0,>=3.8.3->langchain-community) (25.4.0)\n",
            "Requirement already satisfied: frozenlist>=1.1.1 in /usr/local/lib/python3.12/dist-packages (from aiohttp<4.0.0,>=3.8.3->langchain-community) (1.8.0)\n",
            "Requirement already satisfied: multidict<7.0,>=4.5 in /usr/local/lib/python3.12/dist-packages (from aiohttp<4.0.0,>=3.8.3->langchain-community) (6.7.0)\n",
            "Requirement already satisfied: propcache>=0.2.0 in /usr/local/lib/python3.12/dist-packages (from aiohttp<4.0.0,>=3.8.3->langchain-community) (0.3.2)\n",
            "Requirement already satisfied: yarl<2.0,>=1.17.0 in /usr/local/lib/python3.12/dist-packages (from aiohttp<4.0.0,>=3.8.3->langchain-community) (1.22.0)\n",
            "Collecting marshmallow<4.0.0,>=3.18.0 (from dataclasses-json<0.7.0,>=0.6.7->langchain-community)\n",
            "  Downloading marshmallow-3.26.1-py3-none-any.whl.metadata (7.3 kB)\n",
            "Collecting typing-inspect<1,>=0.4.0 (from dataclasses-json<0.7.0,>=0.6.7->langchain-community)\n",
            "  Downloading typing_inspect-0.9.0-py3-none-any.whl.metadata (1.5 kB)\n",
            "Requirement already satisfied: langchain-text-splitters<1.0.0,>=0.3.9 in /usr/local/lib/python3.12/dist-packages (from langchain<2.0.0,>=0.3.27->langchain-community) (0.3.11)\n",
            "Requirement already satisfied: pydantic<3.0.0,>=2.7.4 in /usr/local/lib/python3.12/dist-packages (from langchain<2.0.0,>=0.3.27->langchain-community) (2.11.10)\n",
            "Requirement already satisfied: jsonpatch<2.0.0,>=1.33.0 in /usr/local/lib/python3.12/dist-packages (from langchain-core<2.0.0,>=0.3.78->langchain-community) (1.33)\n",
            "Requirement already satisfied: typing-extensions<5.0.0,>=4.7.0 in /usr/local/lib/python3.12/dist-packages (from langchain-core<2.0.0,>=0.3.78->langchain-community) (4.15.0)\n",
            "Requirement already satisfied: packaging<26.0.0,>=23.2.0 in /usr/local/lib/python3.12/dist-packages (from langchain-core<2.0.0,>=0.3.78->langchain-community) (25.0)\n",
            "Requirement already satisfied: httpx<1,>=0.23.0 in /usr/local/lib/python3.12/dist-packages (from langsmith<1.0.0,>=0.1.125->langchain-community) (0.28.1)\n",
            "Requirement already satisfied: orjson>=3.9.14 in /usr/local/lib/python3.12/dist-packages (from langsmith<1.0.0,>=0.1.125->langchain-community) (3.11.3)\n",
            "Requirement already satisfied: requests-toolbelt>=1.0.0 in /usr/local/lib/python3.12/dist-packages (from langsmith<1.0.0,>=0.1.125->langchain-community) (1.0.0)\n",
            "Requirement already satisfied: zstandard>=0.23.0 in /usr/local/lib/python3.12/dist-packages (from langsmith<1.0.0,>=0.1.125->langchain-community) (0.25.0)\n",
            "Requirement already satisfied: python-dotenv>=0.21.0 in /usr/local/lib/python3.12/dist-packages (from pydantic-settings<3.0.0,>=2.10.1->langchain-community) (1.1.1)\n",
            "Requirement already satisfied: typing-inspection>=0.4.0 in /usr/local/lib/python3.12/dist-packages (from pydantic-settings<3.0.0,>=2.10.1->langchain-community) (0.4.2)\n",
            "Requirement already satisfied: charset_normalizer<4,>=2 in /usr/local/lib/python3.12/dist-packages (from requests<3.0.0,>=2.32.5->langchain-community) (3.4.3)\n",
            "Requirement already satisfied: idna<4,>=2.5 in /usr/local/lib/python3.12/dist-packages (from requests<3.0.0,>=2.32.5->langchain-community) (3.10)\n",
            "Requirement already satisfied: urllib3<3,>=1.21.1 in /usr/local/lib/python3.12/dist-packages (from requests<3.0.0,>=2.32.5->langchain-community) (2.5.0)\n",
            "Requirement already satisfied: certifi>=2017.4.17 in /usr/local/lib/python3.12/dist-packages (from requests<3.0.0,>=2.32.5->langchain-community) (2025.10.5)\n",
            "Requirement already satisfied: greenlet>=1 in /usr/local/lib/python3.12/dist-packages (from SQLAlchemy<3.0.0,>=1.4.0->langchain-community) (3.2.4)\n",
            "Requirement already satisfied: anyio in /usr/local/lib/python3.12/dist-packages (from httpx<1,>=0.23.0->langsmith<1.0.0,>=0.1.125->langchain-community) (4.11.0)\n",
            "Requirement already satisfied: httpcore==1.* in /usr/local/lib/python3.12/dist-packages (from httpx<1,>=0.23.0->langsmith<1.0.0,>=0.1.125->langchain-community) (1.0.9)\n",
            "Requirement already satisfied: h11>=0.16 in /usr/local/lib/python3.12/dist-packages (from httpcore==1.*->httpx<1,>=0.23.0->langsmith<1.0.0,>=0.1.125->langchain-community) (0.16.0)\n",
            "Requirement already satisfied: jsonpointer>=1.9 in /usr/local/lib/python3.12/dist-packages (from jsonpatch<2.0.0,>=1.33.0->langchain-core<2.0.0,>=0.3.78->langchain-community) (3.0.0)\n",
            "Requirement already satisfied: annotated-types>=0.6.0 in /usr/local/lib/python3.12/dist-packages (from pydantic<3.0.0,>=2.7.4->langchain<2.0.0,>=0.3.27->langchain-community) (0.7.0)\n",
            "Requirement already satisfied: pydantic-core==2.33.2 in /usr/local/lib/python3.12/dist-packages (from pydantic<3.0.0,>=2.7.4->langchain<2.0.0,>=0.3.27->langchain-community) (2.33.2)\n",
            "Collecting mypy-extensions>=0.3.0 (from typing-inspect<1,>=0.4.0->dataclasses-json<0.7.0,>=0.6.7->langchain-community)\n",
            "  Downloading mypy_extensions-1.1.0-py3-none-any.whl.metadata (1.1 kB)\n",
            "Requirement already satisfied: sniffio>=1.1 in /usr/local/lib/python3.12/dist-packages (from anyio->httpx<1,>=0.23.0->langsmith<1.0.0,>=0.1.125->langchain-community) (1.3.1)\n",
            "Downloading langchain_community-0.3.31-py3-none-any.whl (2.5 MB)\n",
            "\u001b[2K   \u001b[90m━━━━━━━━━━━━━━━━━━━━━━━━━━━━━━━━━━━━━━━━\u001b[0m \u001b[32m2.5/2.5 MB\u001b[0m \u001b[31m27.2 MB/s\u001b[0m eta \u001b[36m0:00:00\u001b[0m\n",
            "\u001b[?25hDownloading dataclasses_json-0.6.7-py3-none-any.whl (28 kB)\n",
            "Downloading requests-2.32.5-py3-none-any.whl (64 kB)\n",
            "\u001b[2K   \u001b[90m━━━━━━━━━━━━━━━━━━━━━━━━━━━━━━━━━━━━━━━━\u001b[0m \u001b[32m64.7/64.7 kB\u001b[0m \u001b[31m2.1 MB/s\u001b[0m eta \u001b[36m0:00:00\u001b[0m\n",
            "\u001b[?25hDownloading marshmallow-3.26.1-py3-none-any.whl (50 kB)\n",
            "\u001b[2K   \u001b[90m━━━━━━━━━━━━━━━━━━━━━━━━━━━━━━━━━━━━━━━━\u001b[0m \u001b[32m50.9/50.9 kB\u001b[0m \u001b[31m2.1 MB/s\u001b[0m eta \u001b[36m0:00:00\u001b[0m\n",
            "\u001b[?25hDownloading typing_inspect-0.9.0-py3-none-any.whl (8.8 kB)\n",
            "Downloading mypy_extensions-1.1.0-py3-none-any.whl (5.0 kB)\n",
            "Installing collected packages: requests, mypy-extensions, marshmallow, typing-inspect, dataclasses-json, langchain-community\n",
            "  Attempting uninstall: requests\n",
            "    Found existing installation: requests 2.32.4\n",
            "    Uninstalling requests-2.32.4:\n",
            "      Successfully uninstalled requests-2.32.4\n",
            "\u001b[31mERROR: pip's dependency resolver does not currently take into account all the packages that are installed. This behaviour is the source of the following dependency conflicts.\n",
            "google-colab 1.0.0 requires requests==2.32.4, but you have requests 2.32.5 which is incompatible.\u001b[0m\u001b[31m\n",
            "\u001b[0mSuccessfully installed dataclasses-json-0.6.7 langchain-community-0.3.31 marshmallow-3.26.1 mypy-extensions-1.1.0 requests-2.32.5 typing-inspect-0.9.0\n"
          ]
        }
      ]
    },
    {
      "cell_type": "code",
      "source": [
        "from langchain_openai import ChatOpenAI\n",
        "\n",
        "llm = ChatOpenAI(model=\"gpt-3.5-turbo\", openai_api_key=os.getenv(\"OPENAI_API_KEY\"))\n",
        "text = \"웃긴 얘기 해줘\"\n",
        "print(llm.invoke(text))"
      ],
      "metadata": {
        "colab": {
          "base_uri": "https://localhost:8080/"
        },
        "id": "gOMHQjBlMKJE",
        "outputId": "76b16dfb-9589-4b2a-c6e8-8a7e3e39cb8f"
      },
      "execution_count": 10,
      "outputs": [
        {
          "output_type": "stream",
          "name": "stdout",
          "text": [
            "content='왜 미니언즈는 항상 바나나를 먹을까요? \\n\\n- 바나나가 고갈됐기 때문에!' additional_kwargs={'refusal': None} response_metadata={'token_usage': {'completion_tokens': 43, 'prompt_tokens': 17, 'total_tokens': 60, 'completion_tokens_details': {'accepted_prediction_tokens': 0, 'audio_tokens': 0, 'reasoning_tokens': 0, 'rejected_prediction_tokens': 0}, 'prompt_tokens_details': {'audio_tokens': 0, 'cached_tokens': 0}}, 'model_name': 'gpt-3.5-turbo-0125', 'system_fingerprint': None, 'id': 'chatcmpl-CQCRdcGylKvznSXC1Nhc0P21Ovbu0', 'service_tier': 'default', 'finish_reason': 'stop', 'logprobs': None} id='run--e6b72395-0393-41a1-a4e8-ea4115e504dc-0' usage_metadata={'input_tokens': 17, 'output_tokens': 43, 'total_tokens': 60, 'input_token_details': {'audio': 0, 'cache_read': 0}, 'output_token_details': {'audio': 0, 'reasoning': 0}}\n"
          ]
        }
      ]
    },
    {
      "cell_type": "code",
      "source": [
        "print(llm.invoke(text).content)"
      ],
      "metadata": {
        "colab": {
          "base_uri": "https://localhost:8080/"
        },
        "id": "KsMKe7QqYx27",
        "outputId": "876a8426-60f9-43ca-9058-7cde8b46d31c"
      },
      "execution_count": 11,
      "outputs": [
        {
          "output_type": "stream",
          "name": "stdout",
          "text": [
            "왜 코끼리는 냉장고에 들어갈 수 없을까요? \n",
            "\n",
            "- 냉장고 문이 너무 작아서요! 😄\n"
          ]
        }
      ]
    },
    {
      "cell_type": "markdown",
      "source": [
        "# LangChain - Anthropic"
      ],
      "metadata": {
        "id": "1Cq2HWb7bnJi"
      }
    },
    {
      "cell_type": "code",
      "source": [
        "!pip install -U langchain-anthropic"
      ],
      "metadata": {
        "colab": {
          "base_uri": "https://localhost:8080/"
        },
        "collapsed": true,
        "id": "E45E3Royavyo",
        "outputId": "db8de439-ec8e-4f3c-8661-bdc4b68bad8a"
      },
      "execution_count": 12,
      "outputs": [
        {
          "output_type": "stream",
          "name": "stdout",
          "text": [
            "Collecting langchain-anthropic\n",
            "  Downloading langchain_anthropic-0.3.22-py3-none-any.whl.metadata (1.9 kB)\n",
            "Collecting anthropic<1.0.0,>=0.69.0 (from langchain-anthropic)\n",
            "  Downloading anthropic-0.69.0-py3-none-any.whl.metadata (28 kB)\n",
            "Requirement already satisfied: langchain-core<1.0.0,>=0.3.78 in /usr/local/lib/python3.12/dist-packages (from langchain-anthropic) (0.3.78)\n",
            "Requirement already satisfied: pydantic<3.0.0,>=2.7.4 in /usr/local/lib/python3.12/dist-packages (from langchain-anthropic) (2.11.10)\n",
            "Requirement already satisfied: anyio<5,>=3.5.0 in /usr/local/lib/python3.12/dist-packages (from anthropic<1.0.0,>=0.69.0->langchain-anthropic) (4.11.0)\n",
            "Requirement already satisfied: distro<2,>=1.7.0 in /usr/local/lib/python3.12/dist-packages (from anthropic<1.0.0,>=0.69.0->langchain-anthropic) (1.9.0)\n",
            "Requirement already satisfied: docstring-parser<1,>=0.15 in /usr/local/lib/python3.12/dist-packages (from anthropic<1.0.0,>=0.69.0->langchain-anthropic) (0.17.0)\n",
            "Requirement already satisfied: httpx<1,>=0.25.0 in /usr/local/lib/python3.12/dist-packages (from anthropic<1.0.0,>=0.69.0->langchain-anthropic) (0.28.1)\n",
            "Requirement already satisfied: jiter<1,>=0.4.0 in /usr/local/lib/python3.12/dist-packages (from anthropic<1.0.0,>=0.69.0->langchain-anthropic) (0.11.0)\n",
            "Requirement already satisfied: sniffio in /usr/local/lib/python3.12/dist-packages (from anthropic<1.0.0,>=0.69.0->langchain-anthropic) (1.3.1)\n",
            "Requirement already satisfied: typing-extensions<5,>=4.10 in /usr/local/lib/python3.12/dist-packages (from anthropic<1.0.0,>=0.69.0->langchain-anthropic) (4.15.0)\n",
            "Requirement already satisfied: langsmith<1.0.0,>=0.3.45 in /usr/local/lib/python3.12/dist-packages (from langchain-core<1.0.0,>=0.3.78->langchain-anthropic) (0.4.33)\n",
            "Requirement already satisfied: tenacity!=8.4.0,<10.0.0,>=8.1.0 in /usr/local/lib/python3.12/dist-packages (from langchain-core<1.0.0,>=0.3.78->langchain-anthropic) (8.5.0)\n",
            "Requirement already satisfied: jsonpatch<2.0.0,>=1.33.0 in /usr/local/lib/python3.12/dist-packages (from langchain-core<1.0.0,>=0.3.78->langchain-anthropic) (1.33)\n",
            "Requirement already satisfied: PyYAML<7.0.0,>=5.3.0 in /usr/local/lib/python3.12/dist-packages (from langchain-core<1.0.0,>=0.3.78->langchain-anthropic) (6.0.3)\n",
            "Requirement already satisfied: packaging<26.0.0,>=23.2.0 in /usr/local/lib/python3.12/dist-packages (from langchain-core<1.0.0,>=0.3.78->langchain-anthropic) (25.0)\n",
            "Requirement already satisfied: annotated-types>=0.6.0 in /usr/local/lib/python3.12/dist-packages (from pydantic<3.0.0,>=2.7.4->langchain-anthropic) (0.7.0)\n",
            "Requirement already satisfied: pydantic-core==2.33.2 in /usr/local/lib/python3.12/dist-packages (from pydantic<3.0.0,>=2.7.4->langchain-anthropic) (2.33.2)\n",
            "Requirement already satisfied: typing-inspection>=0.4.0 in /usr/local/lib/python3.12/dist-packages (from pydantic<3.0.0,>=2.7.4->langchain-anthropic) (0.4.2)\n",
            "Requirement already satisfied: idna>=2.8 in /usr/local/lib/python3.12/dist-packages (from anyio<5,>=3.5.0->anthropic<1.0.0,>=0.69.0->langchain-anthropic) (3.10)\n",
            "Requirement already satisfied: certifi in /usr/local/lib/python3.12/dist-packages (from httpx<1,>=0.25.0->anthropic<1.0.0,>=0.69.0->langchain-anthropic) (2025.10.5)\n",
            "Requirement already satisfied: httpcore==1.* in /usr/local/lib/python3.12/dist-packages (from httpx<1,>=0.25.0->anthropic<1.0.0,>=0.69.0->langchain-anthropic) (1.0.9)\n",
            "Requirement already satisfied: h11>=0.16 in /usr/local/lib/python3.12/dist-packages (from httpcore==1.*->httpx<1,>=0.25.0->anthropic<1.0.0,>=0.69.0->langchain-anthropic) (0.16.0)\n",
            "Requirement already satisfied: jsonpointer>=1.9 in /usr/local/lib/python3.12/dist-packages (from jsonpatch<2.0.0,>=1.33.0->langchain-core<1.0.0,>=0.3.78->langchain-anthropic) (3.0.0)\n",
            "Requirement already satisfied: orjson>=3.9.14 in /usr/local/lib/python3.12/dist-packages (from langsmith<1.0.0,>=0.3.45->langchain-core<1.0.0,>=0.3.78->langchain-anthropic) (3.11.3)\n",
            "Requirement already satisfied: requests-toolbelt>=1.0.0 in /usr/local/lib/python3.12/dist-packages (from langsmith<1.0.0,>=0.3.45->langchain-core<1.0.0,>=0.3.78->langchain-anthropic) (1.0.0)\n",
            "Requirement already satisfied: requests>=2.0.0 in /usr/local/lib/python3.12/dist-packages (from langsmith<1.0.0,>=0.3.45->langchain-core<1.0.0,>=0.3.78->langchain-anthropic) (2.32.5)\n",
            "Requirement already satisfied: zstandard>=0.23.0 in /usr/local/lib/python3.12/dist-packages (from langsmith<1.0.0,>=0.3.45->langchain-core<1.0.0,>=0.3.78->langchain-anthropic) (0.25.0)\n",
            "Requirement already satisfied: charset_normalizer<4,>=2 in /usr/local/lib/python3.12/dist-packages (from requests>=2.0.0->langsmith<1.0.0,>=0.3.45->langchain-core<1.0.0,>=0.3.78->langchain-anthropic) (3.4.3)\n",
            "Requirement already satisfied: urllib3<3,>=1.21.1 in /usr/local/lib/python3.12/dist-packages (from requests>=2.0.0->langsmith<1.0.0,>=0.3.45->langchain-core<1.0.0,>=0.3.78->langchain-anthropic) (2.5.0)\n",
            "Downloading langchain_anthropic-0.3.22-py3-none-any.whl (32 kB)\n",
            "Downloading anthropic-0.69.0-py3-none-any.whl (337 kB)\n",
            "\u001b[2K   \u001b[90m━━━━━━━━━━━━━━━━━━━━━━━━━━━━━━━━━━━━━━━━\u001b[0m \u001b[32m337.3/337.3 kB\u001b[0m \u001b[31m10.1 MB/s\u001b[0m eta \u001b[36m0:00:00\u001b[0m\n",
            "\u001b[?25hInstalling collected packages: anthropic, langchain-anthropic\n",
            "Successfully installed anthropic-0.69.0 langchain-anthropic-0.3.22\n"
          ]
        }
      ]
    },
    {
      "cell_type": "code",
      "source": [
        "from langchain_anthropic import ChatAnthropic\n",
        "\n",
        "model = ChatAnthropic(model='claude-3-sonnet-20240229', anthropic_api_key=os.getenv(\"ANTHROPIC_API_KEY\"))\n",
        "text = \"웃긴 얘기 해줘\"\n",
        "print(model.invoke(text))"
      ],
      "metadata": {
        "id": "nAzh3rPCaoKY"
      },
      "execution_count": null,
      "outputs": []
    },
    {
      "cell_type": "markdown",
      "source": [
        "# HuggingFaceHub"
      ],
      "metadata": {
        "id": "5eHHCN2ocnPE"
      }
    },
    {
      "cell_type": "code",
      "source": [
        "import langchain\n",
        "import os\n",
        "from langchain_community.llms import HuggingFaceHub\n",
        "from google.colab import userdata\n",
        "\n",
        "\n",
        "os.environ[\"HUGGINGFACEHUB_API_TOKEN\"] = userdata.get('huggingface')\n",
        "repo_id = \"google/flan-t5-xxl\"\n",
        "llm = HuggingFaceHub(\n",
        "    repo_id=repo_id,\n",
        "    model_kwargs={\"temperature\": 0.5, \"max_length\": 64}\n",
        ")"
      ],
      "metadata": {
        "id": "ZDfx3gIGcGjb"
      },
      "execution_count": null,
      "outputs": []
    }
  ]
}
