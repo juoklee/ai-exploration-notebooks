{
  "nbformat": 4,
  "nbformat_minor": 0,
  "metadata": {
    "colab": {
      "provenance": [],
      "authorship_tag": "ABX9TyMZUpHa4wHK6GB0ByJ1YvDA",
      "include_colab_link": true
    },
    "kernelspec": {
      "name": "python3",
      "display_name": "Python 3"
    },
    "language_info": {
      "name": "python"
    }
  },
  "cells": [
    {
      "cell_type": "markdown",
      "metadata": {
        "id": "view-in-github",
        "colab_type": "text"
      },
      "source": [
        "<a href=\"https://colab.research.google.com/github/juoklee/ai-exploration-notebooks/blob/main/7_1_DuckDuckGo_20251012.ipynb\" target=\"_parent\"><img src=\"https://colab.research.google.com/assets/colab-badge.svg\" alt=\"Open In Colab\"/></a>"
      ]
    },
    {
      "cell_type": "markdown",
      "source": [
        "# 검색기능"
      ],
      "metadata": {
        "id": "134hzkD70lS8"
      }
    },
    {
      "cell_type": "code",
      "execution_count": null,
      "metadata": {
        "colab": {
          "base_uri": "https://localhost:8080/"
        },
        "collapsed": true,
        "id": "iY7MjT5D0Zx5",
        "outputId": "0794b68a-b2b2-4b98-c026-37e6db92517b"
      },
      "outputs": [
        {
          "output_type": "stream",
          "name": "stdout",
          "text": [
            "Requirement already satisfied: duckduckgo-search in /usr/local/lib/python3.12/dist-packages (8.1.1)\n",
            "Requirement already satisfied: openai in /usr/local/lib/python3.12/dist-packages (2.3.0)\n",
            "Requirement already satisfied: langchain_community in /usr/local/lib/python3.12/dist-packages (0.3.31)\n",
            "Requirement already satisfied: click>=8.1.8 in /usr/local/lib/python3.12/dist-packages (from duckduckgo-search) (8.3.0)\n",
            "Requirement already satisfied: primp>=0.15.0 in /usr/local/lib/python3.12/dist-packages (from duckduckgo-search) (0.15.0)\n",
            "Requirement already satisfied: lxml>=5.3.0 in /usr/local/lib/python3.12/dist-packages (from duckduckgo-search) (5.4.0)\n",
            "Requirement already satisfied: anyio<5,>=3.5.0 in /usr/local/lib/python3.12/dist-packages (from openai) (4.11.0)\n",
            "Requirement already satisfied: distro<2,>=1.7.0 in /usr/local/lib/python3.12/dist-packages (from openai) (1.9.0)\n",
            "Requirement already satisfied: httpx<1,>=0.23.0 in /usr/local/lib/python3.12/dist-packages (from openai) (0.28.1)\n",
            "Requirement already satisfied: jiter<1,>=0.10.0 in /usr/local/lib/python3.12/dist-packages (from openai) (0.11.0)\n",
            "Requirement already satisfied: pydantic<3,>=1.9.0 in /usr/local/lib/python3.12/dist-packages (from openai) (2.11.10)\n",
            "Requirement already satisfied: sniffio in /usr/local/lib/python3.12/dist-packages (from openai) (1.3.1)\n",
            "Requirement already satisfied: tqdm>4 in /usr/local/lib/python3.12/dist-packages (from openai) (4.67.1)\n",
            "Requirement already satisfied: typing-extensions<5,>=4.11 in /usr/local/lib/python3.12/dist-packages (from openai) (4.15.0)\n",
            "Requirement already satisfied: langchain-core<2.0.0,>=0.3.78 in /usr/local/lib/python3.12/dist-packages (from langchain_community) (0.3.78)\n",
            "Requirement already satisfied: langchain<2.0.0,>=0.3.27 in /usr/local/lib/python3.12/dist-packages (from langchain_community) (0.3.27)\n",
            "Requirement already satisfied: SQLAlchemy<3.0.0,>=1.4.0 in /usr/local/lib/python3.12/dist-packages (from langchain_community) (2.0.43)\n",
            "Requirement already satisfied: requests<3.0.0,>=2.32.5 in /usr/local/lib/python3.12/dist-packages (from langchain_community) (2.32.5)\n",
            "Requirement already satisfied: PyYAML<7.0.0,>=5.3.0 in /usr/local/lib/python3.12/dist-packages (from langchain_community) (6.0.3)\n",
            "Requirement already satisfied: aiohttp<4.0.0,>=3.8.3 in /usr/local/lib/python3.12/dist-packages (from langchain_community) (3.13.0)\n",
            "Requirement already satisfied: tenacity!=8.4.0,<10.0.0,>=8.1.0 in /usr/local/lib/python3.12/dist-packages (from langchain_community) (8.5.0)\n",
            "Requirement already satisfied: dataclasses-json<0.7.0,>=0.6.7 in /usr/local/lib/python3.12/dist-packages (from langchain_community) (0.6.7)\n",
            "Requirement already satisfied: pydantic-settings<3.0.0,>=2.10.1 in /usr/local/lib/python3.12/dist-packages (from langchain_community) (2.11.0)\n",
            "Requirement already satisfied: langsmith<1.0.0,>=0.1.125 in /usr/local/lib/python3.12/dist-packages (from langchain_community) (0.4.33)\n",
            "Requirement already satisfied: httpx-sse<1.0.0,>=0.4.0 in /usr/local/lib/python3.12/dist-packages (from langchain_community) (0.4.2)\n",
            "Requirement already satisfied: numpy>=1.26.2 in /usr/local/lib/python3.12/dist-packages (from langchain_community) (2.0.2)\n",
            "Requirement already satisfied: aiohappyeyeballs>=2.5.0 in /usr/local/lib/python3.12/dist-packages (from aiohttp<4.0.0,>=3.8.3->langchain_community) (2.6.1)\n",
            "Requirement already satisfied: aiosignal>=1.4.0 in /usr/local/lib/python3.12/dist-packages (from aiohttp<4.0.0,>=3.8.3->langchain_community) (1.4.0)\n",
            "Requirement already satisfied: attrs>=17.3.0 in /usr/local/lib/python3.12/dist-packages (from aiohttp<4.0.0,>=3.8.3->langchain_community) (25.4.0)\n",
            "Requirement already satisfied: frozenlist>=1.1.1 in /usr/local/lib/python3.12/dist-packages (from aiohttp<4.0.0,>=3.8.3->langchain_community) (1.8.0)\n",
            "Requirement already satisfied: multidict<7.0,>=4.5 in /usr/local/lib/python3.12/dist-packages (from aiohttp<4.0.0,>=3.8.3->langchain_community) (6.7.0)\n",
            "Requirement already satisfied: propcache>=0.2.0 in /usr/local/lib/python3.12/dist-packages (from aiohttp<4.0.0,>=3.8.3->langchain_community) (0.3.2)\n",
            "Requirement already satisfied: yarl<2.0,>=1.17.0 in /usr/local/lib/python3.12/dist-packages (from aiohttp<4.0.0,>=3.8.3->langchain_community) (1.22.0)\n",
            "Requirement already satisfied: idna>=2.8 in /usr/local/lib/python3.12/dist-packages (from anyio<5,>=3.5.0->openai) (3.10)\n",
            "Requirement already satisfied: marshmallow<4.0.0,>=3.18.0 in /usr/local/lib/python3.12/dist-packages (from dataclasses-json<0.7.0,>=0.6.7->langchain_community) (3.26.1)\n",
            "Requirement already satisfied: typing-inspect<1,>=0.4.0 in /usr/local/lib/python3.12/dist-packages (from dataclasses-json<0.7.0,>=0.6.7->langchain_community) (0.9.0)\n",
            "Requirement already satisfied: certifi in /usr/local/lib/python3.12/dist-packages (from httpx<1,>=0.23.0->openai) (2025.10.5)\n",
            "Requirement already satisfied: httpcore==1.* in /usr/local/lib/python3.12/dist-packages (from httpx<1,>=0.23.0->openai) (1.0.9)\n",
            "Requirement already satisfied: h11>=0.16 in /usr/local/lib/python3.12/dist-packages (from httpcore==1.*->httpx<1,>=0.23.0->openai) (0.16.0)\n",
            "Requirement already satisfied: langchain-text-splitters<1.0.0,>=0.3.9 in /usr/local/lib/python3.12/dist-packages (from langchain<2.0.0,>=0.3.27->langchain_community) (0.3.11)\n",
            "Requirement already satisfied: jsonpatch<2.0.0,>=1.33.0 in /usr/local/lib/python3.12/dist-packages (from langchain-core<2.0.0,>=0.3.78->langchain_community) (1.33)\n",
            "Requirement already satisfied: packaging<26.0.0,>=23.2.0 in /usr/local/lib/python3.12/dist-packages (from langchain-core<2.0.0,>=0.3.78->langchain_community) (25.0)\n",
            "Requirement already satisfied: orjson>=3.9.14 in /usr/local/lib/python3.12/dist-packages (from langsmith<1.0.0,>=0.1.125->langchain_community) (3.11.3)\n",
            "Requirement already satisfied: requests-toolbelt>=1.0.0 in /usr/local/lib/python3.12/dist-packages (from langsmith<1.0.0,>=0.1.125->langchain_community) (1.0.0)\n",
            "Requirement already satisfied: zstandard>=0.23.0 in /usr/local/lib/python3.12/dist-packages (from langsmith<1.0.0,>=0.1.125->langchain_community) (0.25.0)\n",
            "Requirement already satisfied: annotated-types>=0.6.0 in /usr/local/lib/python3.12/dist-packages (from pydantic<3,>=1.9.0->openai) (0.7.0)\n",
            "Requirement already satisfied: pydantic-core==2.33.2 in /usr/local/lib/python3.12/dist-packages (from pydantic<3,>=1.9.0->openai) (2.33.2)\n",
            "Requirement already satisfied: typing-inspection>=0.4.0 in /usr/local/lib/python3.12/dist-packages (from pydantic<3,>=1.9.0->openai) (0.4.2)\n",
            "Requirement already satisfied: python-dotenv>=0.21.0 in /usr/local/lib/python3.12/dist-packages (from pydantic-settings<3.0.0,>=2.10.1->langchain_community) (1.1.1)\n",
            "Requirement already satisfied: charset_normalizer<4,>=2 in /usr/local/lib/python3.12/dist-packages (from requests<3.0.0,>=2.32.5->langchain_community) (3.4.3)\n",
            "Requirement already satisfied: urllib3<3,>=1.21.1 in /usr/local/lib/python3.12/dist-packages (from requests<3.0.0,>=2.32.5->langchain_community) (2.5.0)\n",
            "Requirement already satisfied: greenlet>=1 in /usr/local/lib/python3.12/dist-packages (from SQLAlchemy<3.0.0,>=1.4.0->langchain_community) (3.2.4)\n",
            "Requirement already satisfied: jsonpointer>=1.9 in /usr/local/lib/python3.12/dist-packages (from jsonpatch<2.0.0,>=1.33.0->langchain-core<2.0.0,>=0.3.78->langchain_community) (3.0.0)\n",
            "Requirement already satisfied: mypy-extensions>=0.3.0 in /usr/local/lib/python3.12/dist-packages (from typing-inspect<1,>=0.4.0->dataclasses-json<0.7.0,>=0.6.7->langchain_community) (1.1.0)\n"
          ]
        }
      ],
      "source": [
        "!pip install duckduckgo-search openai langchain_community"
      ]
    },
    {
      "cell_type": "code",
      "source": [
        "pip install -U ddgs"
      ],
      "metadata": {
        "colab": {
          "base_uri": "https://localhost:8080/"
        },
        "id": "3bNxfh5I2JQm",
        "outputId": "c79e167a-62c9-4861-f474-7fa9d21034b7"
      },
      "execution_count": null,
      "outputs": [
        {
          "output_type": "stream",
          "name": "stdout",
          "text": [
            "Collecting ddgs\n",
            "  Downloading ddgs-9.6.0-py3-none-any.whl.metadata (18 kB)\n",
            "Requirement already satisfied: click>=8.1.8 in /usr/local/lib/python3.12/dist-packages (from ddgs) (8.3.0)\n",
            "Requirement already satisfied: primp>=0.15.0 in /usr/local/lib/python3.12/dist-packages (from ddgs) (0.15.0)\n",
            "Collecting lxml>=6.0.0 (from ddgs)\n",
            "  Downloading lxml-6.0.2-cp312-cp312-manylinux_2_26_x86_64.manylinux_2_28_x86_64.whl.metadata (3.6 kB)\n",
            "Requirement already satisfied: httpx>=0.28.1 in /usr/local/lib/python3.12/dist-packages (from httpx[brotli,http2,socks]>=0.28.1->ddgs) (0.28.1)\n",
            "Requirement already satisfied: anyio in /usr/local/lib/python3.12/dist-packages (from httpx>=0.28.1->httpx[brotli,http2,socks]>=0.28.1->ddgs) (4.11.0)\n",
            "Requirement already satisfied: certifi in /usr/local/lib/python3.12/dist-packages (from httpx>=0.28.1->httpx[brotli,http2,socks]>=0.28.1->ddgs) (2025.10.5)\n",
            "Requirement already satisfied: httpcore==1.* in /usr/local/lib/python3.12/dist-packages (from httpx>=0.28.1->httpx[brotli,http2,socks]>=0.28.1->ddgs) (1.0.9)\n",
            "Requirement already satisfied: idna in /usr/local/lib/python3.12/dist-packages (from httpx>=0.28.1->httpx[brotli,http2,socks]>=0.28.1->ddgs) (3.10)\n",
            "Requirement already satisfied: h11>=0.16 in /usr/local/lib/python3.12/dist-packages (from httpcore==1.*->httpx>=0.28.1->httpx[brotli,http2,socks]>=0.28.1->ddgs) (0.16.0)\n",
            "Requirement already satisfied: brotli in /usr/local/lib/python3.12/dist-packages (from httpx[brotli,http2,socks]>=0.28.1->ddgs) (1.1.0)\n",
            "Requirement already satisfied: h2<5,>=3 in /usr/local/lib/python3.12/dist-packages (from httpx[brotli,http2,socks]>=0.28.1->ddgs) (4.3.0)\n",
            "Collecting socksio==1.* (from httpx[brotli,http2,socks]>=0.28.1->ddgs)\n",
            "  Downloading socksio-1.0.0-py3-none-any.whl.metadata (6.1 kB)\n",
            "Requirement already satisfied: hyperframe<7,>=6.1 in /usr/local/lib/python3.12/dist-packages (from h2<5,>=3->httpx[brotli,http2,socks]>=0.28.1->ddgs) (6.1.0)\n",
            "Requirement already satisfied: hpack<5,>=4.1 in /usr/local/lib/python3.12/dist-packages (from h2<5,>=3->httpx[brotli,http2,socks]>=0.28.1->ddgs) (4.1.0)\n",
            "Requirement already satisfied: sniffio>=1.1 in /usr/local/lib/python3.12/dist-packages (from anyio->httpx>=0.28.1->httpx[brotli,http2,socks]>=0.28.1->ddgs) (1.3.1)\n",
            "Requirement already satisfied: typing_extensions>=4.5 in /usr/local/lib/python3.12/dist-packages (from anyio->httpx>=0.28.1->httpx[brotli,http2,socks]>=0.28.1->ddgs) (4.15.0)\n",
            "Downloading ddgs-9.6.0-py3-none-any.whl (41 kB)\n",
            "\u001b[2K   \u001b[90m━━━━━━━━━━━━━━━━━━━━━━━━━━━━━━━━━━━━━━━━\u001b[0m \u001b[32m41.6/41.6 kB\u001b[0m \u001b[31m2.6 MB/s\u001b[0m eta \u001b[36m0:00:00\u001b[0m\n",
            "\u001b[?25hDownloading socksio-1.0.0-py3-none-any.whl (12 kB)\n",
            "Downloading lxml-6.0.2-cp312-cp312-manylinux_2_26_x86_64.manylinux_2_28_x86_64.whl (5.3 MB)\n",
            "\u001b[2K   \u001b[90m━━━━━━━━━━━━━━━━━━━━━━━━━━━━━━━━━━━━━━━━\u001b[0m \u001b[32m5.3/5.3 MB\u001b[0m \u001b[31m67.5 MB/s\u001b[0m eta \u001b[36m0:00:00\u001b[0m\n",
            "\u001b[?25hInstalling collected packages: socksio, lxml, ddgs\n",
            "  Attempting uninstall: lxml\n",
            "    Found existing installation: lxml 5.4.0\n",
            "    Uninstalling lxml-5.4.0:\n",
            "      Successfully uninstalled lxml-5.4.0\n",
            "Successfully installed ddgs-9.6.0 lxml-6.0.2 socksio-1.0.0\n"
          ]
        }
      ]
    },
    {
      "cell_type": "code",
      "source": [
        "# duckduckgo를 이용한 검색 툴\n",
        "from langchain_community.tools import DuckDuckGoSearchRun\n",
        "search = DuckDuckGoSearchRun()\n",
        "search.run(\"이순신 장군이 언제 태어나셨어?\")"
      ],
      "metadata": {
        "colab": {
          "base_uri": "https://localhost:8080/",
          "height": 256
        },
        "id": "G-sNoueB1sIT",
        "outputId": "1c08ad3f-c440-4429-902d-522b2d27777a"
      },
      "execution_count": null,
      "outputs": [
        {
          "output_type": "execute_result",
          "data": {
            "text/plain": [
              "'1 week ago - 이순신 (李舜臣, 1545년 4월 28일(윤음력 3월 8일)~1598년 12월 16일(음력 11월 19일)은 조선 중기 한국의 무신이다. 본관은 덕수(德水), 자는 여해(汝諧), 시호는 충무(忠武)이며 한성 출신이다. 문반 가문 출신으로 1576년(선조 9년) ... April 4, 2025 - 이순신 (李純信, 1553년 12월 27일 ~ 1611년 9월 2일)은 조선 중기의 왕족, 무장, 유학자이다. 임진왜란 때에 활하던 장수로 그의 상관이기도 했던 충무공 이순신 (李舜臣), 등림수 이순신 (李舜臣) 등과의 구별을 위해 무의공 이순신 , ... 1 week ago - 이정(李貞, 1511년 7월 2일 ~1583년 11월 15일)은 조선의 무신이다. 본관은 덕수(德水) 자는 희복(希復)이다. 행 병절교위. 증 순충적덕병의보조공신(純忠積德秉義補祚功臣) 대광보국(大匡輔國) 숭록대부(崇祿大夫) 의정부(議政府) ... December 25, 2024 - 이기순(1953년 12월 20일 ~ )은 대한민국의 정치인이다. 제39대 인제군수를 역임했다. 이기순은 제5회 전국동시지방선거를 앞두고 지역 주민들에게 물품을 제공한 혐의를 받아 검찰에 기소되었다. 이에 대법원은 이기순에게 ... 3 weeks ago - 명량 해전(鳴梁海戰) 또는 명량 대첩(鳴梁大捷)은 1597년(선조 30) 음력 9월 16일(양력 10월 26일) 정유재란 당시 조선 수군이 이순신 장군의 지휘 아래 일본 수군의 대규모 함대를 상대로 승리를 거둔 전투이다.'"
            ],
            "application/vnd.google.colaboratory.intrinsic+json": {
              "type": "string"
            }
          },
          "metadata": {},
          "execution_count": 8
        }
      ]
    },
    {
      "cell_type": "markdown",
      "source": [
        "# 유튜브 영상 검색"
      ],
      "metadata": {
        "id": "W_QPqeCW2pI7"
      }
    },
    {
      "cell_type": "code",
      "source": [
        "!pip install --upgrade --quiet youtube_search"
      ],
      "metadata": {
        "id": "sheW3bot2n7G"
      },
      "execution_count": null,
      "outputs": []
    },
    {
      "cell_type": "code",
      "source": [
        "# 검색어 관련 영상 검색\n",
        "from langchain_community.tools import YouTubeSearchTool\n",
        "tool = YouTubeSearchTool()\n",
        "tool.run(\"비트코인\")"
      ],
      "metadata": {
        "colab": {
          "base_uri": "https://localhost:8080/",
          "height": 69
        },
        "id": "aClVVjGP2vbA",
        "outputId": "17277716-cd01-4396-f226-99fc62741597"
      },
      "execution_count": null,
      "outputs": [
        {
          "output_type": "execute_result",
          "data": {
            "text/plain": [
              "\"['https://www.youtube.com/watch?v=SSaF_Ropujc&pp=ygUM67mE7Yq47L2U7J24', 'https://www.youtube.com/watch?v=tuH4fCQNdco&pp=ygUM67mE7Yq47L2U7J24']\""
            ],
            "application/vnd.google.colaboratory.intrinsic+json": {
              "type": "string"
            }
          },
          "metadata": {},
          "execution_count": 11
        }
      ]
    },
    {
      "cell_type": "code",
      "source": [
        "!pip install --upgrade --quiet youtube-transcript-api pytube faiss-cpu tiktoken langchain langchain_openai"
      ],
      "metadata": {
        "colab": {
          "base_uri": "https://localhost:8080/"
        },
        "collapsed": true,
        "id": "f4cUzU173B0E",
        "outputId": "ebde6f6e-b830-46c3-f580-c47df62f1eaf"
      },
      "execution_count": null,
      "outputs": [
        {
          "output_type": "stream",
          "name": "stdout",
          "text": [
            "\u001b[?25l   \u001b[90m━━━━━━━━━━━━━━━━━━━━━━━━━━━━━━━━━━━━━━━━\u001b[0m \u001b[32m0.0/485.0 kB\u001b[0m \u001b[31m?\u001b[0m eta \u001b[36m-:--:--\u001b[0m\r\u001b[2K   \u001b[91m━━━━━━━━━━━━━━━━━━━━━━━━━━━━━━━━━━━━━━━\u001b[0m\u001b[91m╸\u001b[0m \u001b[32m481.3/485.0 kB\u001b[0m \u001b[31m22.7 MB/s\u001b[0m eta \u001b[36m0:00:01\u001b[0m\r\u001b[2K   \u001b[90m━━━━━━━━━━━━━━━━━━━━━━━━━━━━━━━━━━━━━━━━\u001b[0m \u001b[32m485.0/485.0 kB\u001b[0m \u001b[31m13.0 MB/s\u001b[0m eta \u001b[36m0:00:00\u001b[0m\n",
            "\u001b[2K   \u001b[90m━━━━━━━━━━━━━━━━━━━━━━━━━━━━━━━━━━━━━━━━\u001b[0m \u001b[32m57.6/57.6 kB\u001b[0m \u001b[31m4.0 MB/s\u001b[0m eta \u001b[36m0:00:00\u001b[0m\n",
            "\u001b[2K   \u001b[90m━━━━━━━━━━━━━━━━━━━━━━━━━━━━━━━━━━━━━━━━\u001b[0m \u001b[32m31.4/31.4 MB\u001b[0m \u001b[31m60.9 MB/s\u001b[0m eta \u001b[36m0:00:00\u001b[0m\n",
            "\u001b[2K   \u001b[90m━━━━━━━━━━━━━━━━━━━━━━━━━━━━━━━━━━━━━━━━\u001b[0m \u001b[32m76.0/76.0 kB\u001b[0m \u001b[31m5.2 MB/s\u001b[0m eta \u001b[36m0:00:00\u001b[0m\n",
            "\u001b[?25h"
          ]
        }
      ]
    },
    {
      "cell_type": "code",
      "source": [
        "\n",
        "# 검색어 관련 영상 내용 요약 까지\n",
        "\n",
        "# From: https://towardsdatascience.com/getting-started-with-langchain-a-beginners-guide-to-building-llm-powered-applications-95fc8898732c\n",
        "from langchain.document_loaders import YoutubeLoader # 유튜브 로더\n",
        "from langchain.embeddings import OpenAIEmbeddings    # 임베딩용\n",
        "from langchain.vectorstores import FAISS             # 벡터 스토어 종류\n",
        "from langchain.chains import RetrievalQA             # 질문 답변 툴\n",
        "from langchain_openai import ChatOpenAI              # OpenAI 쓸 수 있는 툴\n",
        "from pprint import pprint                            # 아웃풋 프린트 툴 (필요 없음)\n",
        "from pickle import load\n",
        "\n",
        "# set key\n",
        "import os, openai\n",
        "from google.colab import userdata\n",
        "\n",
        "os.environ[\"OPENAI_API_KEY\"] = userdata.get('openai')\n",
        "openai.api_key = os.getenv(\"OPENAI_API_KEY\")\n",
        "\n",
        "# embedding\n",
        "embeddings = OpenAIEmbeddings()\n",
        "\n",
        "# 자막 내용 가져오기\n",
        "loader = YoutubeLoader.from_youtube_url(\"https://www.youtube.com/watch?v=HsonXuJs8-s\")\n",
        "docs = loader.load()\n",
        "\n",
        "# 벡터스토어 만들기\n",
        "db = FAISS.from_documents(docs, embeddings)\n",
        "retriever = db.as_retriever()\n",
        "\n",
        "# 언어모델\n",
        "llm = ChatOpenAI(model_name=\"gpt-4\", temperature=0)\n",
        "\n",
        "# 질문 답변\n",
        "qa = RetrievalQA.from_chain_type(\n",
        "    llm=llm,\n",
        "    chain_type=\"stuff\",\n",
        "    retriever=retriever,\n",
        "    return_source_documents=True)\n",
        "\n",
        "# 질문 물어보기\n",
        "query = \"cold shower 하면 좋은 점? 한국말로 답해\"\n",
        "result = qa({\"query\": query})\n",
        "print(result)\n"
      ],
      "metadata": {
        "colab": {
          "base_uri": "https://localhost:8080/"
        },
        "id": "LJGUn7qb3Ltq",
        "outputId": "38ac6558-63e5-4b99-a448-998448132fe2"
      },
      "execution_count": null,
      "outputs": [
        {
          "output_type": "stream",
          "name": "stderr",
          "text": [
            "/tmp/ipython-input-4140752369.py:43: LangChainDeprecationWarning: The method `Chain.__call__` was deprecated in langchain 0.1.0 and will be removed in 1.0. Use :meth:`~invoke` instead.\n",
            "  result = qa({\"query\": query})\n"
          ]
        },
        {
          "output_type": "stream",
          "name": "stdout",
          "text": [
            "{'query': 'cold shower 하면 좋은 점? 한국말로 답해',\n",
            " 'result': '차가운 샤워가 건강에 좋다는 주장은 여전히 회색 영역입니다. 그러나 일부 연구에서는 차가운 샤워가 몇 가지 이점을 가질 '\n",
            "           '수 있다는 약한 증거를 제시하고 있습니다.\\n'\n",
            "           '\\n'\n",
            "           '예를 들어, 2016년에 PLOS One에서 발표된 연구에서는 아침에 차가운 샤워를 하면 직장에서 병가를 쓰는 일수가 '\n",
            "           '줄어들지 확인하려고 했습니다. 이 연구에서는 2300명 이상의 참가자가 30일 동안 따뜻한 샤워를 하거나, 마지막에 '\n",
            "           '30, 60, 90초 동안 차가워지는 따뜻한 샤워를 했습니다. 결과적으로, 차가운 샤워 그룹의 참가자들은 따뜻한 샤워 '\n",
            "           '그룹보다 평균적으로 29% 덜 병가를 냈습니다. 이는 대략 한 달에 병가 하루를 덜 쓴 것과 같습니다.\\n'\n",
            "           '\\n'\n",
            "           '또한, 많은 사람들이 차가운 샤워가 기분을 향상시킬 수 있다고 주장합니다. 그러나 이에 대한 연구 결과는 더 약합니다. '\n",
            "           '2008년에 Medical Hypothesis에서 발표된 연구에서는 차가운 물이 교감신경계를 활성화시켜 심장 박동을 '\n",
            "           '빠르게 하고 엔돌핀을 분비시켜 기분을 향상시킬 것이라는 가설을 세웠습니다. 그러나 이 연구는 데이터 포인트가 세 '\n",
            "           '개뿐이었고, 그 중 하나는 논문의 저자였으며, 그들 중 어느 누구도 우울증을 진단할 수 있는 증상을 가지고 있지 '\n",
            "           '않았습니다.\\n'\n",
            "           '\\n'\n",
            "           '따라서, 차가운 샤워가 건강에 좋다는 주장은 아직 확실하지 않습니다. 짧은 차가운 샤워가 해를 끼치지는 않을 것이지만, '\n",
            "           '실제적인 건강 효과에 대한 주장을 하기 전에 더 많은 연구가 필요합니다.',\n",
            " 'source_documents': [Document(id='2e2e0811-8d3f-4831-bc0b-5e3e5a2fd48e', metadata={'source': 'HsonXuJs8-s'}, page_content='Thanks to Skillshare for supporting this episode, and this whole week, of SciShow. [♩INTRO] If you follow any productivity gurus, then you’ve probably heard how you need\\nto take cold showers in the morning. After all, not only can they wake you right\\nup, but you’re also promised a myriad of health\\nbenefits and everybody loves a good healthy life hack. But whether these claims are actually true\\nis still kind of a gray area. Also, I have to say, as someone who grew up\\nin Florida and now lives in Montana, a cold shower is different depending on where\\nyou live. So before you jump in that agonizingly cold\\nshower, let’s look at some research. One of the biggest problems with studying\\ncold showers is that… well, people really haven’t. Instead, most health claims are implied from\\nstudies of cryotherapy using cold water or air to treat a condition or from things like people who repeatedly\\ngo swimming in cold water. But cryotherapy is really carefully controlled, and those swimmers often stay in the water\\nfor over an hour, so it’s hard to apply this to your quick\\nrinse before work. Still, that doesn’t mean there’s zero\\nevidence for cold showers, because there is. It’s just not very strong. Like, take the claim people make that those showers improve your immune system. In 2016, a study published in PLOS One wanted to see if taking a quick cold shower\\nin the morning would reduce the amount of sick days someone\\ntook from work. For 30 straight days, more than 2300 subjects\\ntook either a warm shower, or a warm shower that turned cold for 30,\\n60, or 90 seconds at the end. On average, subjects in all three of the cold\\nshower groups called into work 29% less than the warm shower group roughly the same as one less sick day per\\nmonth. But we don’t know why, since the research team didn’t measure any\\nbiological markers. Many of the participants did say they felt\\nan increase in energy and continued taking the cold showers after\\nthe experiment, but that’s not enough to close the case. It’s possible that their white blood cell\\ncount increased like what’s been shown to happen with cold\\nwater swimmers. But again, a 90-second rinse is a lot different\\nfrom an hour in the water. Many people also swear that cold showers can\\nboost mood. But the results there are maybe even weaker. A 2008 study in Medical Hypothesis gets referenced\\na lot as evidence for cold showers as an antidepressant, but it’s not really all that convincing. They hypothesized that cold water would activate your sympathetic nervous system the system that does things like increase\\nyour heart rate and stimulate the release of endorphins which\\nwould elevate your mood. But it only had three data points, one of\\nwhich was the author of the paper, and none of them had symptoms that would diagnose\\nthem with depression. Plus, the biological markers they expected\\nto change were never actually measured, so really we\\ndon’t have any results to go off of. To be fair, the author did mention all that\\nin the paper. But alas, the blogosphere still holds onto\\nthat antidepressant claim even though the article wasn’t that powerful. The thing here is, you can’t placebo a cold\\nshower: you know if you’re getting one. So it seems like cold showers get a lot more\\ncredit than they deserve based on the evidence that exists. A short one probably won’t hurt you, but\\nhey, let’s do more research before we start making claims about reality\\nand our bodies. Seriously, if you’re looking for a research\\nproject, this sounds like a good one to try out. Couldn’t be that expensive, it’s cold\\nwater. So, even though cold showers might not be\\nthe key to making you more productive, the CEO and co-founder of Skillshare, Michael\\nKarnjanaprakorn, is really productive and shares his systems\\nfor productivity in his class Real Productivity: Create Your\\nIdeal Week. He provides a simple framework to prioritize and accomplish what’s important to you in\\nthe immediate and in the long term. We’ll make sure to link to it in the description. All these week, we’ve been sharing Skillshare\\nclasses we think SciShow viewers will appreciate, but even though the week is coming to an end, this offer from Skillshare is still available. Skillshare is offering SciShow viewers 2 free\\nmonths of unlimited access to their platform of over\\n20,000 classes. Click on the link in the description to sign\\nup, and let us know in the comments what classes\\nyou take! We always love to learn new things. [♩OUTRO]')]}\n"
          ]
        }
      ]
    },
    {
      "cell_type": "code",
      "source": [
        "pprint(result['result'])"
      ],
      "metadata": {
        "colab": {
          "base_uri": "https://localhost:8080/"
        },
        "id": "AbPqo2QF5KAu",
        "outputId": "9b0c3a2d-d697-4570-93a0-516acd130cba"
      },
      "execution_count": null,
      "outputs": [
        {
          "output_type": "stream",
          "name": "stdout",
          "text": [
            "('차가운 샤워가 건강에 좋다는 주장은 여전히 회색 영역입니다. 그러나 일부 연구에서는 차가운 샤워가 몇 가지 이점을 가질 수 있다는 약한 '\n",
            " '증거를 제시하고 있습니다.\\n'\n",
            " '\\n'\n",
            " '예를 들어, 2016년에 PLOS One에서 발표된 연구에서는 아침에 차가운 샤워를 하면 직장에서 병가를 쓰는 일수가 줄어들지 확인하려고 '\n",
            " '했습니다. 이 연구에서는 2300명 이상의 참가자가 30일 동안 따뜻한 샤워를 하거나, 마지막에 30, 60, 90초 동안 차가워지는 '\n",
            " '따뜻한 샤워를 했습니다. 결과적으로, 차가운 샤워 그룹의 참가자들은 따뜻한 샤워 그룹보다 평균적으로 29% 덜 병가를 냈습니다. 이는 '\n",
            " '대략 한 달에 병가 하루를 덜 쓴 것과 같습니다.\\n'\n",
            " '\\n'\n",
            " '또한, 많은 사람들이 차가운 샤워가 기분을 향상시킬 수 있다고 주장합니다. 그러나 이에 대한 연구 결과는 더 약합니다. 2008년에 '\n",
            " 'Medical Hypothesis에서 발표된 연구에서는 차가운 물이 교감신경계를 활성화시켜 심장 박동을 빠르게 하고 엔돌핀을 분비시켜 '\n",
            " '기분을 향상시킬 것이라는 가설을 세웠습니다. 그러나 이 연구는 데이터 포인트가 세 개뿐이었고, 그 중 하나는 논문의 저자였으며, 그들 중 '\n",
            " '어느 누구도 우울증을 진단할 수 있는 증상을 가지고 있지 않았습니다.\\n'\n",
            " '\\n'\n",
            " '따라서, 차가운 샤워가 건강에 좋다는 주장은 아직 확실하지 않습니다. 짧은 차가운 샤워가 해를 끼치지는 않을 것이지만, 실제적인 건강 '\n",
            " '효과에 대한 주장을 하기 전에 더 많은 연구가 필요합니다.')\n"
          ]
        }
      ]
    },
    {
      "cell_type": "code",
      "source": [
        "# 로딩을 한국어로\n",
        "loader = YoutubeLoader.from_youtube_url(\"https://www.youtube.com/watch?v=4-cmJPA2Klg\", language='ko')\n",
        "documents = loader.load()\n",
        "\n",
        "# 벡터스토어 인덱스 생성\n",
        "db = FAISS.from_documents(documents, embeddings)\n",
        "retriever = db.as_retriever()\n",
        "llm = ChatOpenAI(model_name=\"gpt-4\")\n",
        "\n",
        "qa = RetrievalQA.from_chain_type(\n",
        "    llm=llm,\n",
        "    chain_type=\"stuff\",\n",
        "    retriever=retriever,\n",
        "    return_source_documents=True)\n",
        "\n",
        "query = \"내용 200자로 요약해줘\"\n",
        "result = qa({\"query\": query})\n",
        "\n",
        "pprint(result['result'])\n"
      ],
      "metadata": {
        "colab": {
          "base_uri": "https://localhost:8080/"
        },
        "id": "eqmC-oMA5cYD",
        "outputId": "11b8b822-392b-490c-ee35-b97afc37dd4d"
      },
      "execution_count": null,
      "outputs": [
        {
          "output_type": "stream",
          "name": "stdout",
          "text": [
            "('40대는 경제활동 인구가 9.5% 줄고, 성과 구직 활동도 하지 않는 시어스 민구가 10년간 8만 명이 늘었습니다. 여성 층에서는 '\n",
            " '40대가 처음으로 30대보다 많이 경력이 단절되는 경우가 많았습니다. 이에 따라, 직무와 성과 중심의 임금체계 개편과 노동시장 재진입이 '\n",
            " '수월하도록 제도적 정비가 필요하다는 의견이 제기되었습니다. 최근로의 자립 지원을 위해 노동시장 변화에 대응할 수 있는 리스킬링과 업스킬링 '\n",
            " '훈련이 필요하며, 40대의 고용 문제를 해결하기 위해 복지 정책의 범위를 넓혀야 한다는 것입니다.')\n"
          ]
        }
      ]
    }
  ]
}