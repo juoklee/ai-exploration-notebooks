{
  "nbformat": 4,
  "nbformat_minor": 0,
  "metadata": {
    "colab": {
      "provenance": [],
      "authorship_tag": "ABX9TyNoycmQO0ox4mhancVs1/Qi"
    },
    "kernelspec": {
      "name": "python3",
      "display_name": "Python 3"
    },
    "language_info": {
      "name": "python"
    }
  },
  "cells": [
    {
      "cell_type": "markdown",
      "source": [
        "# [REST API]"
      ],
      "metadata": {
        "id": "Wdrqjt-hXDKW"
      }
    },
    {
      "cell_type": "markdown",
      "source": [
        "## 1. `catfact`"
      ],
      "metadata": {
        "id": "TeFrQ18CXXf1"
      }
    },
    {
      "cell_type": "code",
      "execution_count": null,
      "metadata": {
        "colab": {
          "base_uri": "https://localhost:8080/"
        },
        "id": "7t-X9UpzXCRK",
        "outputId": "d000cb09-7efc-4e0b-b05a-3c55739b83dc"
      },
      "outputs": [
        {
          "output_type": "stream",
          "name": "stdout",
          "text": [
            "<Response [200]>\n",
            "{'fact': 'Cats lived with soldiers in trenches, where they killed mice during World War I.', 'length': 80}\n",
            "Cats lived with soldiers in trenches, where they killed mice during World War I.\n"
          ]
        }
      ],
      "source": [
        "import requests\n",
        "\n",
        "response = requests.get(\"https://catfact.ninja/fact\")\n",
        "\n",
        "print(response)\n",
        "print(response.json())\n",
        "print(response.json()['fact'])"
      ]
    },
    {
      "cell_type": "markdown",
      "source": [
        "## 2. `postman`"
      ],
      "metadata": {
        "id": "YJrVBXPOX6Vw"
      }
    },
    {
      "cell_type": "code",
      "source": [
        "import requests\n",
        "\n",
        "def get_cat_fact():\n",
        "  url = \"https://catfact.ninja/fact\"\n",
        "  try:\n",
        "    response = requests.get(url)\n",
        "    response.raise_for_status()\n",
        "    cat_fact = response.json()\n",
        "  except requests.exceptions.HTTPError as errh:\n",
        "    print(\"Http Error:\", errh)\n",
        "  except requests.exceptions.ConnectionError as errc:\n",
        "    print(\"Error Connecting:\", errc)\n",
        "  return response.json()['fact']\n",
        "\n",
        "\n",
        "print(get_cat_fact())"
      ],
      "metadata": {
        "colab": {
          "base_uri": "https://localhost:8080/"
        },
        "id": "-yWlS9WgYOJn",
        "outputId": "f7b1392a-e505-46d1-8c0f-22ecaacf8d7b"
      },
      "execution_count": null,
      "outputs": [
        {
          "output_type": "stream",
          "name": "stdout",
          "text": [
            "A cat has approximately 60 to 80 million olfactory cells (a human has between 5 and 20 million).\n"
          ]
        }
      ]
    },
    {
      "cell_type": "markdown",
      "source": [
        "# 3. `OpenAI`"
      ],
      "metadata": {
        "id": "XiMu1G97hI-1"
      }
    },
    {
      "cell_type": "code",
      "source": [
        "from openai import OpenAI\n",
        "import os\n",
        "from google.colab import userdata\n",
        "\n",
        "os.environ[\"OPENAI_API_KEY\"] = userdata.get('openai')\n",
        "openai_api_key=userdata.get('openai')\n",
        "\n",
        "client = openai.OpenAI()\n",
        "\n",
        "response = client.chat.completions.create(\n",
        "    model=\"gpt-3.5-turbo\",\n",
        "    messages=[\n",
        "        {\"role\": \"user\",\n",
        "         \"content\": \"직장인이 화가나서 진격의 거인으로 변한 다음 회사를 무너뜨리는 내용의 웹소설 시놉시스를 만들어줘.\"}\n",
        "    ],\n",
        "    temperature=0.5,\n",
        "    max_tokens=1000,\n",
        "    top_p=1,\n",
        "    frequency_penalty=0,\n",
        "    presence_penalty=0,\n",
        "    stop=None\n",
        ")\n",
        "\n",
        "print(response)\n",
        "print(response.choices[0].message.content)"
      ],
      "metadata": {
        "colab": {
          "base_uri": "https://localhost:8080/"
        },
        "id": "ukobSy8EY6w0",
        "outputId": "6f463389-7046-497a-ee2c-8cd23e927ffe"
      },
      "execution_count": null,
      "outputs": [
        {
          "output_type": "stream",
          "name": "stdout",
          "text": [
            "ChatCompletion(id='chatcmpl-CQ7VfkFnQXFXWqwyJ2zxevwUGYwOV', choices=[Choice(finish_reason='stop', index=0, logprobs=None, message=ChatCompletionMessage(content='한 평범한 직장인이 업무 스트레스와 직원 간의 갈등으로 인해 화가 나게 되었다. 어느 날, 그는 신비한 힘에 감싸여 진격의 거인으로 변신하게 된다. 이제 그는 거대한 몸집과 끝없는 힘을 가지고 회사에 복수하기로 결심한다. \\n\\n그는 거인의 힘을 이용해 회사 건물을 무너뜨리고, 상사와 동료들을 두려움에 떨게 만든다. 그의 복수는 끝이 없을 것 같지만, 그의 내면에는 여전히 평범한 직장인의 마음이 남아있다. \\n\\n이 소설은 직장인의 업무 스트레스와 갈등을 다루면서도, 그의 내면의 갈등과 욕망을 통해 인간의 본성을 탐구한다. 또한, 진격의 거인으로 변한 주인공이 어떻게 자신을 이끌고 행동하는지에 대한 이야기도 담겨져 있다.', refusal=None, role='assistant', annotations=[], audio=None, function_call=None, tool_calls=None))], created=1760341431, model='gpt-3.5-turbo-0125', object='chat.completion', service_tier='default', system_fingerprint=None, usage=CompletionUsage(completion_tokens=342, prompt_tokens=63, total_tokens=405, completion_tokens_details=CompletionTokensDetails(accepted_prediction_tokens=0, audio_tokens=0, reasoning_tokens=0, rejected_prediction_tokens=0), prompt_tokens_details=PromptTokensDetails(audio_tokens=0, cached_tokens=0)))\n",
            "한 평범한 직장인이 업무 스트레스와 직원 간의 갈등으로 인해 화가 나게 되었다. 어느 날, 그는 신비한 힘에 감싸여 진격의 거인으로 변신하게 된다. 이제 그는 거대한 몸집과 끝없는 힘을 가지고 회사에 복수하기로 결심한다. \n",
            "\n",
            "그는 거인의 힘을 이용해 회사 건물을 무너뜨리고, 상사와 동료들을 두려움에 떨게 만든다. 그의 복수는 끝이 없을 것 같지만, 그의 내면에는 여전히 평범한 직장인의 마음이 남아있다. \n",
            "\n",
            "이 소설은 직장인의 업무 스트레스와 갈등을 다루면서도, 그의 내면의 갈등과 욕망을 통해 인간의 본성을 탐구한다. 또한, 진격의 거인으로 변한 주인공이 어떻게 자신을 이끌고 행동하는지에 대한 이야기도 담겨져 있다.\n"
          ]
        }
      ]
    }
  ]
}
